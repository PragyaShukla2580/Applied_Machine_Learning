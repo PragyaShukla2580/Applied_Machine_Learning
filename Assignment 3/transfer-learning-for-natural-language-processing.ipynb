{
 "cells": [
  {
   "cell_type": "markdown",
   "id": "dramatic-closure",
   "metadata": {
    "papermill": {
     "duration": 0.018847,
     "end_time": "2021-08-19T19:47:00.197859",
     "exception": false,
     "start_time": "2021-08-19T19:47:00.179012",
     "status": "completed"
    },
    "tags": []
   },
   "source": [
    "# Identify toxicity comments\n",
    "\n",
    "# 1. Description\n",
    "- A main area of focus is machine learning models that can identify toxicity in online conversations, where toxicity is defined as anything rude, disrespectful or otherwise likely to make someone leave a discussion. If these toxic contributions can be identified, we could have a safer, more collaborative internet.\n",
    "\n",
    "- `Disclaimer`: The dataset for this contains text that may be considered profane, vulgar, or offensive.\n",
    "\n",
    "# 2. Evaluation\n",
    "- `area under the ROC curve` between the predicted probability and the observed target.\n",
    "\n",
    "# 3. Data\n",
    "- `comment_text`: This contains the text of a comment which has been classified as toxic or non-toxic (0...1 in the toxic column). The data set’s comments are entirely in english and come either from Civil Comments or Wikipedia talk page edits.\n",
    "\n",
    "- What am I predicting?\n",
    "> We are predicting the probability that a comment is toxic. A toxic comment would receive a 1.0. A benign, non-toxic comment would receive a 0.0. In the test set, all comments are classified as either a 1.0 or a 0.0."
   ]
  },
  {
   "cell_type": "code",
   "execution_count": 1,
   "id": "regulated-lightweight",
   "metadata": {
    "execution": {
     "iopub.execute_input": "2021-08-19T19:47:00.237894Z",
     "iopub.status.busy": "2021-08-19T19:47:00.236410Z",
     "iopub.status.idle": "2021-08-19T19:48:35.523701Z",
     "shell.execute_reply": "2021-08-19T19:48:35.523061Z"
    },
    "papermill": {
     "duration": 95.308364,
     "end_time": "2021-08-19T19:48:35.523868",
     "exception": false,
     "start_time": "2021-08-19T19:47:00.215504",
     "status": "completed"
    },
    "tags": []
   },
   "outputs": [],
   "source": [
    "!pip install -q pyicu\n",
    "!pip install -q pycld2\n",
    "!pip install -q polyglot\n",
    "!pip install -q pyyaml h5py  # Required to save models in HDF5 format"
   ]
  },
  {
   "cell_type": "code",
   "execution_count": 2,
   "id": "electoral-beijing",
   "metadata": {
    "_cell_guid": "b1076dfc-b9ad-4769-8c92-a6c4dae69d19",
    "_uuid": "8f2839f25d086af736a60e9eeb907d3b93b6e0e5",
    "execution": {
     "iopub.execute_input": "2021-08-19T19:48:35.565821Z",
     "iopub.status.busy": "2021-08-19T19:48:35.565051Z",
     "iopub.status.idle": "2021-08-19T19:48:41.038589Z",
     "shell.execute_reply": "2021-08-19T19:48:41.038088Z"
    },
    "papermill": {
     "duration": 5.496585,
     "end_time": "2021-08-19T19:48:41.038735",
     "exception": false,
     "start_time": "2021-08-19T19:48:35.542150",
     "status": "completed"
    },
    "tags": []
   },
   "outputs": [],
   "source": [
    "import os\n",
    "import re\n",
    "import pandas as pd\n",
    "import numpy as np\n",
    "import tqdm\n",
    "import transformers\n",
    "import tensorflow as tf\n",
    "\n",
    "from sklearn.metrics import accuracy_score, roc_auc_score, confusion_matrix\n",
    "from sklearn.model_selection import train_test_split\n",
    "\n",
    "from polyglot.detect import Detector\n",
    "\n",
    "import matplotlib.pyplot as plt"
   ]
  },
  {
   "cell_type": "code",
   "execution_count": 3,
   "id": "configured-muscle",
   "metadata": {
    "execution": {
     "iopub.execute_input": "2021-08-19T19:48:41.079810Z",
     "iopub.status.busy": "2021-08-19T19:48:41.079157Z",
     "iopub.status.idle": "2021-08-19T19:48:41.084347Z",
     "shell.execute_reply": "2021-08-19T19:48:41.084928Z"
    },
    "papermill": {
     "duration": 0.028266,
     "end_time": "2021-08-19T19:48:41.085102",
     "exception": false,
     "start_time": "2021-08-19T19:48:41.056836",
     "status": "completed"
    },
    "tags": []
   },
   "outputs": [
    {
     "name": "stdout",
     "output_type": "stream",
     "text": [
      "2.4.1\n",
      "4.5.1\n",
      "2.4.0\n"
     ]
    }
   ],
   "source": [
    "print(tf.__version__)\n",
    "print(transformers.__version__)\n",
    "print(tf.keras.__version__)"
   ]
  },
  {
   "cell_type": "code",
   "execution_count": 4,
   "id": "leading-senate",
   "metadata": {
    "execution": {
     "iopub.execute_input": "2021-08-19T19:48:41.125761Z",
     "iopub.status.busy": "2021-08-19T19:48:41.125121Z",
     "iopub.status.idle": "2021-08-19T19:48:41.127490Z",
     "shell.execute_reply": "2021-08-19T19:48:41.127866Z"
    },
    "papermill": {
     "duration": 0.023464,
     "end_time": "2021-08-19T19:48:41.127987",
     "exception": false,
     "start_time": "2021-08-19T19:48:41.104523",
     "status": "completed"
    },
    "tags": []
   },
   "outputs": [],
   "source": [
    "# os.environ[\"CUDA_DEVICE_ORDER\"]=\"PCI_BUS_ID\";\n",
    "# os.environ[\"CUDA_VISIBLE_DEVICES\"]=\"0\";"
   ]
  },
  {
   "cell_type": "markdown",
   "id": "ultimate-running",
   "metadata": {
    "papermill": {
     "duration": 0.018022,
     "end_time": "2021-08-19T19:48:41.164160",
     "exception": false,
     "start_time": "2021-08-19T19:48:41.146138",
     "status": "completed"
    },
    "tags": []
   },
   "source": [
    "# Data Preprocessing"
   ]
  },
  {
   "cell_type": "code",
   "execution_count": 5,
   "id": "utility-apparatus",
   "metadata": {
    "execution": {
     "iopub.execute_input": "2021-08-19T19:48:41.206057Z",
     "iopub.status.busy": "2021-08-19T19:48:41.205411Z",
     "iopub.status.idle": "2021-08-19T19:49:01.996163Z",
     "shell.execute_reply": "2021-08-19T19:49:01.995695Z"
    },
    "papermill": {
     "duration": 20.81397,
     "end_time": "2021-08-19T19:49:01.996296",
     "exception": false,
     "start_time": "2021-08-19T19:48:41.182326",
     "status": "completed"
    },
    "tags": []
   },
   "outputs": [
    {
     "name": "stdout",
     "output_type": "stream",
     "text": [
      "['sample_submission.csv', 'validation-processed-seqlen128.csv', 'test-processed-seqlen128.csv', 'jigsaw-unintended-bias-train-processed-seqlen128.csv', 'validation.csv', 'jigsaw-toxic-comment-train.csv', 'test.csv', 'jigsaw-unintended-bias-train.csv', 'jigsaw-toxic-comment-train-processed-seqlen128.csv']\n"
     ]
    }
   ],
   "source": [
    "def get_language(text):\n",
    "    return Detector(\n",
    "        \"\".join(x for x in text if x.isprintable()), quiet=True\n",
    "    ).languages[0].name\n",
    "\n",
    "PATH =  \"jigsaw-multilingual-toxic-comment-classification\"\n",
    "FILES = os.listdir(PATH)\n",
    "print(FILES)\n",
    "\n",
    "TRAIN_PATH = os.path.join(PATH, 'jigsaw-toxic-comment-train.csv')\n",
    "data = pd.read_csv(TRAIN_PATH)\n",
    "\n",
    "data[\"lang\"] = data[\"comment_text\"].apply(get_language)\n",
    "data = data[data['lang'] == 'English']"
   ]
  },
  {
   "cell_type": "code",
   "execution_count": 6,
   "id": "korean-logging",
   "metadata": {
    "execution": {
     "iopub.execute_input": "2021-08-19T19:49:02.044602Z",
     "iopub.status.busy": "2021-08-19T19:49:02.044025Z",
     "iopub.status.idle": "2021-08-19T19:49:02.054144Z",
     "shell.execute_reply": "2021-08-19T19:49:02.054550Z"
    },
    "papermill": {
     "duration": 0.03929,
     "end_time": "2021-08-19T19:49:02.054682",
     "exception": false,
     "start_time": "2021-08-19T19:49:02.015392",
     "status": "completed"
    },
    "tags": []
   },
   "outputs": [
    {
     "data": {
      "text/html": [
       "<div>\n",
       "<style scoped>\n",
       "    .dataframe tbody tr th:only-of-type {\n",
       "        vertical-align: middle;\n",
       "    }\n",
       "\n",
       "    .dataframe tbody tr th {\n",
       "        vertical-align: top;\n",
       "    }\n",
       "\n",
       "    .dataframe thead th {\n",
       "        text-align: right;\n",
       "    }\n",
       "</style>\n",
       "<table border=\"1\" class=\"dataframe\">\n",
       "  <thead>\n",
       "    <tr style=\"text-align: right;\">\n",
       "      <th></th>\n",
       "      <th>id</th>\n",
       "      <th>comment_text</th>\n",
       "      <th>toxic</th>\n",
       "      <th>severe_toxic</th>\n",
       "      <th>obscene</th>\n",
       "      <th>threat</th>\n",
       "      <th>insult</th>\n",
       "      <th>identity_hate</th>\n",
       "      <th>lang</th>\n",
       "    </tr>\n",
       "  </thead>\n",
       "  <tbody>\n",
       "    <tr>\n",
       "      <th>0</th>\n",
       "      <td>0000997932d777bf</td>\n",
       "      <td>Explanation\\nWhy the edits made under my usern...</td>\n",
       "      <td>0</td>\n",
       "      <td>0</td>\n",
       "      <td>0</td>\n",
       "      <td>0</td>\n",
       "      <td>0</td>\n",
       "      <td>0</td>\n",
       "      <td>English</td>\n",
       "    </tr>\n",
       "    <tr>\n",
       "      <th>1</th>\n",
       "      <td>000103f0d9cfb60f</td>\n",
       "      <td>D'aww! He matches this background colour I'm s...</td>\n",
       "      <td>0</td>\n",
       "      <td>0</td>\n",
       "      <td>0</td>\n",
       "      <td>0</td>\n",
       "      <td>0</td>\n",
       "      <td>0</td>\n",
       "      <td>English</td>\n",
       "    </tr>\n",
       "    <tr>\n",
       "      <th>2</th>\n",
       "      <td>000113f07ec002fd</td>\n",
       "      <td>Hey man, I'm really not trying to edit war. It...</td>\n",
       "      <td>0</td>\n",
       "      <td>0</td>\n",
       "      <td>0</td>\n",
       "      <td>0</td>\n",
       "      <td>0</td>\n",
       "      <td>0</td>\n",
       "      <td>English</td>\n",
       "    </tr>\n",
       "    <tr>\n",
       "      <th>3</th>\n",
       "      <td>0001b41b1c6bb37e</td>\n",
       "      <td>\"\\nMore\\nI can't make any real suggestions on ...</td>\n",
       "      <td>0</td>\n",
       "      <td>0</td>\n",
       "      <td>0</td>\n",
       "      <td>0</td>\n",
       "      <td>0</td>\n",
       "      <td>0</td>\n",
       "      <td>English</td>\n",
       "    </tr>\n",
       "    <tr>\n",
       "      <th>4</th>\n",
       "      <td>0001d958c54c6e35</td>\n",
       "      <td>You, sir, are my hero. Any chance you remember...</td>\n",
       "      <td>0</td>\n",
       "      <td>0</td>\n",
       "      <td>0</td>\n",
       "      <td>0</td>\n",
       "      <td>0</td>\n",
       "      <td>0</td>\n",
       "      <td>English</td>\n",
       "    </tr>\n",
       "  </tbody>\n",
       "</table>\n",
       "</div>"
      ],
      "text/plain": [
       "                 id                                       comment_text  toxic  \\\n",
       "0  0000997932d777bf  Explanation\\nWhy the edits made under my usern...      0   \n",
       "1  000103f0d9cfb60f  D'aww! He matches this background colour I'm s...      0   \n",
       "2  000113f07ec002fd  Hey man, I'm really not trying to edit war. It...      0   \n",
       "3  0001b41b1c6bb37e  \"\\nMore\\nI can't make any real suggestions on ...      0   \n",
       "4  0001d958c54c6e35  You, sir, are my hero. Any chance you remember...      0   \n",
       "\n",
       "   severe_toxic  obscene  threat  insult  identity_hate     lang  \n",
       "0             0        0       0       0              0  English  \n",
       "1             0        0       0       0              0  English  \n",
       "2             0        0       0       0              0  English  \n",
       "3             0        0       0       0              0  English  \n",
       "4             0        0       0       0              0  English  "
      ]
     },
     "execution_count": 6,
     "metadata": {},
     "output_type": "execute_result"
    }
   ],
   "source": [
    "data.head()"
   ]
  },
  {
   "cell_type": "code",
   "execution_count": 7,
   "id": "bound-freight",
   "metadata": {
    "execution": {
     "iopub.execute_input": "2021-08-19T19:49:02.096744Z",
     "iopub.status.busy": "2021-08-19T19:49:02.096040Z",
     "iopub.status.idle": "2021-08-19T19:49:02.103008Z",
     "shell.execute_reply": "2021-08-19T19:49:02.103498Z"
    },
    "papermill": {
     "duration": 0.029733,
     "end_time": "2021-08-19T19:49:02.103623",
     "exception": false,
     "start_time": "2021-08-19T19:49:02.073890",
     "status": "completed"
    },
    "tags": []
   },
   "outputs": [
    {
     "data": {
      "text/plain": [
       "0    199700\n",
       "1     20953\n",
       "Name: toxic, dtype: int64"
      ]
     },
     "execution_count": 7,
     "metadata": {},
     "output_type": "execute_result"
    }
   ],
   "source": [
    "data.toxic.value_counts()"
   ]
  },
  {
   "cell_type": "markdown",
   "id": "serious-administration",
   "metadata": {
    "papermill": {
     "duration": 0.019493,
     "end_time": "2021-08-19T19:49:02.142458",
     "exception": false,
     "start_time": "2021-08-19T19:49:02.122965",
     "status": "completed"
    },
    "tags": []
   },
   "source": [
    "# Split data to Train and Test"
   ]
  },
  {
   "cell_type": "code",
   "execution_count": 8,
   "id": "intellectual-agreement",
   "metadata": {
    "execution": {
     "iopub.execute_input": "2021-08-19T19:49:02.187150Z",
     "iopub.status.busy": "2021-08-19T19:49:02.186493Z",
     "iopub.status.idle": "2021-08-19T19:49:02.225102Z",
     "shell.execute_reply": "2021-08-19T19:49:02.225482Z"
    },
    "papermill": {
     "duration": 0.063669,
     "end_time": "2021-08-19T19:49:02.225629",
     "exception": false,
     "start_time": "2021-08-19T19:49:02.161960",
     "status": "completed"
    },
    "tags": []
   },
   "outputs": [
    {
     "name": "stdout",
     "output_type": "stream",
     "text": [
      "(176522, 1)\n",
      "(176522,)\n",
      "(44131, 1)\n",
      "(44131,)\n"
     ]
    }
   ],
   "source": [
    "X = data[['comment_text']]\n",
    "y = data[['toxic']]\n",
    "\n",
    "X_train, X_test, y_train, y_test = train_test_split(X, y, test_size=0.2, random_state=42)\n",
    "\n",
    "y_test = y_test.toxic.values\n",
    "y_train = y_train.toxic.values\n",
    "\n",
    "print(X_train.shape)\n",
    "print(y_train.shape)\n",
    "print(X_test.shape)\n",
    "print(y_test.shape)"
   ]
  },
  {
   "cell_type": "markdown",
   "id": "stuck-maine",
   "metadata": {
    "papermill": {
     "duration": 0.020049,
     "end_time": "2021-08-19T19:49:02.265714",
     "exception": false,
     "start_time": "2021-08-19T19:49:02.245665",
     "status": "completed"
    },
    "tags": []
   },
   "source": [
    "## Tokenizing the data"
   ]
  },
  {
   "cell_type": "code",
   "execution_count": 9,
   "id": "married-kingston",
   "metadata": {
    "execution": {
     "iopub.execute_input": "2021-08-19T19:49:02.319841Z",
     "iopub.status.busy": "2021-08-19T19:49:02.319172Z",
     "iopub.status.idle": "2021-08-19T19:50:40.874076Z",
     "shell.execute_reply": "2021-08-19T19:50:40.873552Z"
    },
    "papermill": {
     "duration": 98.585471,
     "end_time": "2021-08-19T19:50:40.874211",
     "exception": false,
     "start_time": "2021-08-19T19:49:02.288740",
     "status": "completed"
    },
    "tags": []
   },
   "outputs": [
    {
     "data": {
      "application/vnd.jupyter.widget-view+json": {
       "model_id": "f00ae7b389744a29abc42e35cb03a8f5",
       "version_major": 2,
       "version_minor": 0
      },
      "text/plain": [
       "Downloading:   0%|          | 0.00/570 [00:00<?, ?B/s]"
      ]
     },
     "metadata": {},
     "output_type": "display_data"
    },
    {
     "data": {
      "application/vnd.jupyter.widget-view+json": {
       "model_id": "21086f6a16884d199153332c45ab1ec0",
       "version_major": 2,
       "version_minor": 0
      },
      "text/plain": [
       "Downloading:   0%|          | 0.00/213k [00:00<?, ?B/s]"
      ]
     },
     "metadata": {},
     "output_type": "display_data"
    },
    {
     "data": {
      "application/vnd.jupyter.widget-view+json": {
       "model_id": "282cee75055d412c9389a3c6e27221bc",
       "version_major": 2,
       "version_minor": 0
      },
      "text/plain": [
       "Downloading:   0%|          | 0.00/436k [00:00<?, ?B/s]"
      ]
     },
     "metadata": {},
     "output_type": "display_data"
    },
    {
     "data": {
      "application/vnd.jupyter.widget-view+json": {
       "model_id": "8574707a164349ceb42bc907baac3f61",
       "version_major": 2,
       "version_minor": 0
      },
      "text/plain": [
       "Downloading:   0%|          | 0.00/29.0 [00:00<?, ?B/s]"
      ]
     },
     "metadata": {},
     "output_type": "display_data"
    }
   ],
   "source": [
    "def map_func(input_ids, masks, labels):\n",
    "    return {\n",
    "        'input_ids': input_ids,\n",
    "        'attention_mask': masks\n",
    "    }, labels\n",
    "\n",
    "PRE_TRAINED_MODEL_NAME = 'bert-base-cased'\n",
    "tokenizer = transformers.AutoTokenizer.from_pretrained(PRE_TRAINED_MODEL_NAME)\n",
    "\n",
    "SEQ_LEN = 128\n",
    "X_train_ids = np.zeros((len(X_train), SEQ_LEN))\n",
    "X_train_mask = np.zeros((len(X_train), SEQ_LEN))\n",
    "\n",
    "X_test_ids = np.zeros((len(X_test), SEQ_LEN))\n",
    "X_test_mask = np.zeros((len(X_test), SEQ_LEN))\n",
    "\n",
    "for i, sequence in enumerate(X_train['comment_text']):\n",
    "    tokens = tokenizer.encode_plus(\n",
    "        sequence, max_length=SEQ_LEN,\n",
    "        truncation=True, padding='max_length',\n",
    "        add_special_tokens=True, return_token_type_ids=False,\n",
    "        return_attention_mask=True, return_tensors='tf'\n",
    "    )\n",
    "    X_train_ids[i, :], X_train_mask[i, :] = tokens['input_ids'], tokens['attention_mask']\n",
    "    \n",
    "for i, sequence in enumerate(X_test['comment_text']):\n",
    "    tokens = tokenizer.encode_plus(\n",
    "        sequence, max_length=SEQ_LEN,\n",
    "        truncation=True, padding='max_length',\n",
    "        add_special_tokens=True, return_token_type_ids=False,\n",
    "        return_attention_mask=True, return_tensors='tf'\n",
    "    )\n",
    "    X_test_ids[i, :], X_test_mask[i, :] = tokens['input_ids'], tokens['attention_mask']\n",
    "    \n",
    "train_dataset = tf.data.Dataset.from_tensor_slices((X_train_ids, X_train_mask, y_train))\n",
    "test_dataset = tf.data.Dataset.from_tensor_slices((X_test_ids, X_test_mask, y_test))\n",
    "\n",
    "train_dataset = train_dataset.map(map_func)\n",
    "test_dataset = test_dataset.map(map_func)\n",
    "\n",
    "train_dataset = train_dataset.shuffle(100000).batch(32, drop_remainder=True)\n",
    "test_dataset = test_dataset.shuffle(100000).batch(32, drop_remainder=True)"
   ]
  },
  {
   "cell_type": "markdown",
   "id": "postal-access",
   "metadata": {
    "papermill": {
     "duration": 0.021533,
     "end_time": "2021-08-19T19:50:40.918657",
     "exception": false,
     "start_time": "2021-08-19T19:50:40.897124",
     "status": "completed"
    },
    "tags": []
   },
   "source": [
    "# Model Building"
   ]
  },
  {
   "cell_type": "code",
   "execution_count": 10,
   "id": "waiting-breeding",
   "metadata": {
    "execution": {
     "iopub.execute_input": "2021-08-19T19:50:40.969766Z",
     "iopub.status.busy": "2021-08-19T19:50:40.969062Z",
     "iopub.status.idle": "2021-08-19T22:47:38.391299Z",
     "shell.execute_reply": "2021-08-19T22:47:38.391869Z"
    },
    "papermill": {
     "duration": 10617.451768,
     "end_time": "2021-08-19T22:47:38.392049",
     "exception": false,
     "start_time": "2021-08-19T19:50:40.940281",
     "status": "completed"
    },
    "tags": []
   },
   "outputs": [
    {
     "data": {
      "application/vnd.jupyter.widget-view+json": {
       "model_id": "c9624ea2659042608331792ba9485ac0",
       "version_major": 2,
       "version_minor": 0
      },
      "text/plain": [
       "Downloading:   0%|          | 0.00/527M [00:00<?, ?B/s]"
      ]
     },
     "metadata": {},
     "output_type": "display_data"
    },
    {
     "name": "stderr",
     "output_type": "stream",
     "text": [
      "Some layers from the model checkpoint at bert-base-cased were not used when initializing TFBertModel: ['nsp___cls', 'mlm___cls']\n",
      "- This IS expected if you are initializing TFBertModel from the checkpoint of a model trained on another task or with another architecture (e.g. initializing a BertForSequenceClassification model from a BertForPreTraining model).\n",
      "- This IS NOT expected if you are initializing TFBertModel from the checkpoint of a model that you expect to be exactly identical (initializing a BertForSequenceClassification model from a BertForSequenceClassification model).\n",
      "All the layers of TFBertModel were initialized from the model checkpoint at bert-base-cased.\n",
      "If your task is similar to the task the model of the checkpoint was trained on, you can already use TFBertModel for predictions without further training.\n"
     ]
    },
    {
     "name": "stdout",
     "output_type": "stream",
     "text": [
      "Epoch 1/10\n",
      "5516/5516 [==============================] - 1066s 192ms/step - loss: 0.2681 - AUC: 0.7887 - val_loss: 0.2191 - val_AUC: 0.8768\n",
      "Epoch 2/10\n",
      "5516/5516 [==============================] - 1058s 192ms/step - loss: 0.2197 - AUC: 0.8723 - val_loss: 0.2087 - val_AUC: 0.8965\n",
      "Epoch 3/10\n",
      "5516/5516 [==============================] - 1059s 192ms/step - loss: 0.2065 - AUC: 0.8916 - val_loss: 0.1960 - val_AUC: 0.9050\n",
      "Epoch 4/10\n",
      "5516/5516 [==============================] - 1058s 192ms/step - loss: 0.2014 - AUC: 0.8983 - val_loss: 0.1916 - val_AUC: 0.9098\n",
      "Epoch 5/10\n",
      "5516/5516 [==============================] - 1055s 191ms/step - loss: 0.1939 - AUC: 0.9035 - val_loss: 0.1867 - val_AUC: 0.9126\n",
      "Epoch 6/10\n",
      "5516/5516 [==============================] - 1053s 191ms/step - loss: 0.1920 - AUC: 0.9059 - val_loss: 0.1904 - val_AUC: 0.9139\n",
      "Epoch 7/10\n",
      "5516/5516 [==============================] - 1053s 191ms/step - loss: 0.1907 - AUC: 0.9084 - val_loss: 0.1846 - val_AUC: 0.9159\n",
      "Epoch 8/10\n",
      "5516/5516 [==============================] - 1053s 191ms/step - loss: 0.1899 - AUC: 0.9061 - val_loss: 0.1808 - val_AUC: 0.9172\n",
      "Epoch 9/10\n",
      "5516/5516 [==============================] - 1053s 191ms/step - loss: 0.1867 - AUC: 0.9117 - val_loss: 0.1814 - val_AUC: 0.9180\n",
      "Epoch 10/10\n",
      "5516/5516 [==============================] - 1054s 191ms/step - loss: 0.1849 - AUC: 0.9134 - val_loss: 0.1794 - val_AUC: 0.9197\n"
     ]
    }
   ],
   "source": [
    "bert = transformers.TFAutoModel.from_pretrained(PRE_TRAINED_MODEL_NAME)\n",
    "\n",
    "input_ids = tf.keras.layers.Input(shape=(SEQ_LEN, ), name='input_ids', dtype='int32')\n",
    "mask = tf.keras.layers.Input(shape=(SEQ_LEN, ), name='attention_mask', dtype='int32')\n",
    "\n",
    "embeddings = bert.bert(input_ids, attention_mask=mask)[1]\n",
    "\n",
    "X = tf.keras.layers.Dense(1024, activation='relu')(embeddings)\n",
    "# X = tf.keras.layers.GlobalMaxPool1D()(embeddings)\n",
    "# X = tf.keras.layers.BatchNormalization()(X)\n",
    "# X = tf.keras.layers.Dense(128, activation='relu')(X)\n",
    "# X = tf.keras.layers.Dropout(0.1)(X)\n",
    "# X = tf.keras.layers.Dense(32, activation='relu')(X)\n",
    "y = tf.keras.layers.Dense(1, activation='sigmoid', name='outputs')(X)\n",
    "\n",
    "model = tf.keras.Model(inputs=[input_ids, mask], outputs=y)\n",
    "\n",
    "model.layers[2].trainable = False\n",
    "\n",
    "model.compile(\n",
    "    optimizer=tf.keras.optimizers.Adam(lr=1e-5, decay=1e-6), \n",
    "    loss='binary_crossentropy', \n",
    "    metrics=[tf.keras.metrics.AUC(name='AUC')]\n",
    ")\n",
    "\n",
    "r = model.fit(\n",
    "    train_dataset,\n",
    "    validation_data=(test_dataset),\n",
    "    epochs=10,\n",
    "    batch_size=4096\n",
    ")"
   ]
  },
  {
   "cell_type": "code",
   "execution_count": 11,
   "id": "flying-brunei",
   "metadata": {
    "execution": {
     "iopub.execute_input": "2021-08-19T22:48:07.584371Z",
     "iopub.status.busy": "2021-08-19T22:48:07.583580Z",
     "iopub.status.idle": "2021-08-19T22:51:26.830018Z",
     "shell.execute_reply": "2021-08-19T22:51:26.830417Z"
    },
    "papermill": {
     "duration": 213.645938,
     "end_time": "2021-08-19T22:51:26.830613",
     "exception": false,
     "start_time": "2021-08-19T22:47:53.184675",
     "status": "completed"
    },
    "tags": []
   },
   "outputs": [
    {
     "name": "stdout",
     "output_type": "stream",
     "text": [
      "1379/1379 [==============================] - 199s 144ms/step - loss: 0.1793 - AUC: 0.9197\n"
     ]
    },
    {
     "data": {
      "text/plain": [
       "[0.1793288141489029, 0.919731855392456]"
      ]
     },
     "execution_count": 11,
     "metadata": {},
     "output_type": "execute_result"
    }
   ],
   "source": [
    "model.evaluate(test_dataset)"
   ]
  },
  {
   "cell_type": "code",
   "execution_count": 12,
   "id": "superior-simon",
   "metadata": {
    "execution": {
     "iopub.execute_input": "2021-08-19T22:51:56.970743Z",
     "iopub.status.busy": "2021-08-19T22:51:56.969122Z",
     "iopub.status.idle": "2021-08-19T22:51:56.971438Z",
     "shell.execute_reply": "2021-08-19T22:51:56.971888Z"
    },
    "papermill": {
     "duration": 14.629926,
     "end_time": "2021-08-19T22:51:56.972030",
     "exception": false,
     "start_time": "2021-08-19T22:51:42.342104",
     "status": "completed"
    },
    "tags": []
   },
   "outputs": [],
   "source": [
    "def plot_learning_evolution(r):\n",
    "    plt.figure(figsize=(12, 8))\n",
    "    \n",
    "    plt.subplot(2, 2, 1)\n",
    "    plt.plot(r.history['loss'], label='Loss')\n",
    "    plt.plot(r.history['val_loss'], label='val_Loss')\n",
    "    plt.title('Loss evolution during trainig')\n",
    "    plt.legend()\n",
    "\n",
    "    plt.subplot(2, 2, 2)\n",
    "    plt.plot(r.history['AUC'], label='AUC')\n",
    "    plt.plot(r.history['val_AUC'], label='val_AUC')\n",
    "    plt.title('AUC score evolution during trainig')\n",
    "    plt.legend();"
   ]
  },
  {
   "cell_type": "code",
   "execution_count": 13,
   "id": "authentic-wright",
   "metadata": {
    "execution": {
     "iopub.execute_input": "2021-08-19T22:52:27.317748Z",
     "iopub.status.busy": "2021-08-19T22:52:27.317204Z",
     "iopub.status.idle": "2021-08-19T22:52:27.562436Z",
     "shell.execute_reply": "2021-08-19T22:52:27.562863Z"
    },
    "papermill": {
     "duration": 15.390502,
     "end_time": "2021-08-19T22:52:27.563005",
     "exception": false,
     "start_time": "2021-08-19T22:52:12.172503",
     "status": "completed"
    },
    "tags": []
   },
   "outputs": [
    {
     "data": {
      "image/png": "[encoded data removed]",
      "text/plain": [
       "<Figure size 864x576 with 2 Axes>"
      ]
     },
     "metadata": {
      "needs_background": "light"
     },
     "output_type": "display_data"
    }
   ],
   "source": [
    "plot_learning_evolution(r)"
   ]
  },
  {
   "cell_type": "code",
   "execution_count": 14,
   "id": "genuine-approach",
   "metadata": {
    "execution": {
     "iopub.execute_input": "2021-08-19T22:52:57.727494Z",
     "iopub.status.busy": "2021-08-19T22:52:57.726634Z",
     "iopub.status.idle": "2021-08-19T22:52:57.728796Z",
     "shell.execute_reply": "2021-08-19T22:52:57.729241Z"
    },
    "papermill": {
     "duration": 14.945651,
     "end_time": "2021-08-19T22:52:57.729375",
     "exception": false,
     "start_time": "2021-08-19T22:52:42.783724",
     "status": "completed"
    },
    "tags": []
   },
   "outputs": [],
   "source": [
    "# y_pred = model.predict(test_dataset)\n",
    "# confusion_matrix(y_test, y_pred.round())"
   ]
  },
  {
   "cell_type": "markdown",
   "id": "important-pollution",
   "metadata": {
    "papermill": {
     "duration": 14.849589,
     "end_time": "2021-08-19T22:53:27.988840",
     "exception": false,
     "start_time": "2021-08-19T22:53:13.139251",
     "status": "completed"
    },
    "tags": []
   },
   "source": [
    "# Saving and Uploading the model"
   ]
  },
  {
   "cell_type": "code",
   "execution_count": 15,
   "id": "automated-lodge",
   "metadata": {
    "execution": {
     "iopub.execute_input": "2021-08-19T22:53:58.017219Z",
     "iopub.status.busy": "2021-08-19T22:53:58.015656Z",
     "iopub.status.idle": "2021-08-19T22:54:03.817286Z",
     "shell.execute_reply": "2021-08-19T22:54:03.816832Z"
    },
    "papermill": {
     "duration": 20.43433,
     "end_time": "2021-08-19T22:54:03.817414",
     "exception": false,
     "start_time": "2021-08-19T22:53:43.383084",
     "status": "completed"
    },
    "tags": []
   },
   "outputs": [
    {
     "name": "stdout",
     "output_type": "stream",
     "text": [
      "Requirement already satisfied: pyyaml in /opt/conda/lib/python3.7/site-packages (5.3.1)\r\n",
      "Requirement already satisfied: h5py in /opt/conda/lib/python3.7/site-packages (2.10.0)\r\n",
      "Requirement already satisfied: numpy>=1.7 in /opt/conda/lib/python3.7/site-packages (from h5py) (1.19.5)\r\n",
      "Requirement already satisfied: six in /opt/conda/lib/python3.7/site-packages (from h5py) (1.15.0)\r\n"
     ]
    }
   ],
   "source": [
    "!pip install pyyaml h5py  # Required to save models in HDF5 format"
   ]
  },
  {
   "cell_type": "code",
   "execution_count": 16,
   "id": "distributed-eating",
   "metadata": {
    "execution": {
     "iopub.execute_input": "2021-08-19T22:54:34.014491Z",
     "iopub.status.busy": "2021-08-19T22:54:34.013663Z",
     "iopub.status.idle": "2021-08-19T22:54:35.529323Z",
     "shell.execute_reply": "2021-08-19T22:54:35.530318Z"
    },
    "papermill": {
     "duration": 16.398135,
     "end_time": "2021-08-19T22:54:35.530552",
     "exception": false,
     "start_time": "2021-08-19T22:54:19.132417",
     "status": "completed"
    },
    "tags": []
   },
   "outputs": [],
   "source": [
    "tf.keras.models.save_model(model, \"hate_speech_10_epochs.hdf5\")\n",
    "model.save(\"hate_speech_10_epochs.h5\")"
   ]
  },
  {
   "cell_type": "code",
   "execution_count": 17,
   "id": "horizontal-minority",
   "metadata": {
    "execution": {
     "iopub.execute_input": "2021-08-19T22:55:06.188938Z",
     "iopub.status.busy": "2021-08-19T22:55:06.178803Z",
     "iopub.status.idle": "2021-08-19T22:55:08.356698Z",
     "shell.execute_reply": "2021-08-19T22:55:08.357436Z"
    },
    "papermill": {
     "duration": 16.953287,
     "end_time": "2021-08-19T22:55:08.357713",
     "exception": false,
     "start_time": "2021-08-19T22:54:51.404426",
     "status": "completed"
    },
    "tags": []
   },
   "outputs": [
    {
     "name": "stdout",
     "output_type": "stream",
     "text": [
      "Model: \"model\"\n",
      "__________________________________________________________________________________________________\n",
      "Layer (type)                    Output Shape         Param #     Connected to                     \n",
      "==================================================================================================\n",
      "input_ids (InputLayer)          [(None, 128)]        0                                            \n",
      "__________________________________________________________________________________________________\n",
      "attention_mask (InputLayer)     [(None, 128)]        0                                            \n",
      "__________________________________________________________________________________________________\n",
      "bert (TFBertMainLayer)          TFBaseModelOutputWit 108310272   input_ids[0][0]                  \n",
      "                                                                 attention_mask[0][0]             \n",
      "__________________________________________________________________________________________________\n",
      "dense (Dense)                   (None, 1024)         787456      bert[0][1]                       \n",
      "__________________________________________________________________________________________________\n",
      "outputs (Dense)                 (None, 1)            1025        dense[0][0]                      \n",
      "==================================================================================================\n",
      "Total params: 109,098,753\n",
      "Trainable params: 788,481\n",
      "Non-trainable params: 108,310,272\n",
      "__________________________________________________________________________________________________\n"
     ]
    }
   ],
   "source": [
    "hdf5_model = tf.keras.models.load_model(\"hate_speech_10_epochs.hdf5\")\n",
    "hdf5_model.summary()"
   ]
  },
  {
   "cell_type": "code",
   "execution_count": 18,
   "id": "built-garlic",
   "metadata": {
    "execution": {
     "iopub.execute_input": "2021-08-19T22:55:38.395764Z",
     "iopub.status.busy": "2021-08-19T22:55:38.390775Z",
     "iopub.status.idle": "2021-08-19T22:55:40.503555Z",
     "shell.execute_reply": "2021-08-19T22:55:40.502935Z"
    },
    "papermill": {
     "duration": 16.803755,
     "end_time": "2021-08-19T22:55:40.503728",
     "exception": false,
     "start_time": "2021-08-19T22:55:23.699973",
     "status": "completed"
    },
    "tags": []
   },
   "outputs": [
    {
     "name": "stdout",
     "output_type": "stream",
     "text": [
      "Model: \"model\"\n",
      "__________________________________________________________________________________________________\n",
      "Layer (type)                    Output Shape         Param #     Connected to                     \n",
      "==================================================================================================\n",
      "input_ids (InputLayer)          [(None, 128)]        0                                            \n",
      "__________________________________________________________________________________________________\n",
      "attention_mask (InputLayer)     [(None, 128)]        0                                            \n",
      "__________________________________________________________________________________________________\n",
      "bert (TFBertMainLayer)          TFBaseModelOutputWit 108310272   input_ids[0][0]                  \n",
      "                                                                 attention_mask[0][0]             \n",
      "__________________________________________________________________________________________________\n",
      "dense (Dense)                   (None, 1024)         787456      bert[0][1]                       \n",
      "__________________________________________________________________________________________________\n",
      "outputs (Dense)                 (None, 1)            1025        dense[0][0]                      \n",
      "==================================================================================================\n",
      "Total params: 109,098,753\n",
      "Trainable params: 788,481\n",
      "Non-trainable params: 108,310,272\n",
      "__________________________________________________________________________________________________\n"
     ]
    }
   ],
   "source": [
    "h5_model = tf.keras.models.load_model(\"hate_speech_10_epochs.h5\")\n",
    "h5_model.summary()"
   ]
  },
  {
   "cell_type": "code",
   "execution_count": 19,
   "id": "boxed-soldier",
   "metadata": {
    "execution": {
     "iopub.execute_input": "2021-08-19T22:56:10.665763Z",
     "iopub.status.busy": "2021-08-19T22:56:10.664249Z",
     "iopub.status.idle": "2021-08-19T22:56:10.666571Z",
     "shell.execute_reply": "2021-08-19T22:56:10.666972Z"
    },
    "papermill": {
     "duration": 14.596092,
     "end_time": "2021-08-19T22:56:10.667103",
     "exception": false,
     "start_time": "2021-08-19T22:55:56.071011",
     "status": "completed"
    },
    "tags": []
   },
   "outputs": [],
   "source": [
    "def prep_sentence(sentence):\n",
    "    tokens = tokenizer.encode_plus(\n",
    "        sentence, max_length=SEQ_LEN,\n",
    "        truncation=True, padding='max_length',\n",
    "        add_special_tokens=True, return_token_type_ids=False,\n",
    "        return_attention_mask=True, return_tensors='tf'\n",
    "    )\n",
    "    return {\n",
    "        'input_ids': tf.cast(tokens['input_ids'], tf.float64),\n",
    "        'attention_mask': tf.cast(tokens['attention_mask'], tf.float64)\n",
    "    }"
   ]
  },
  {
   "cell_type": "markdown",
   "id": "least-arcade",
   "metadata": {
    "papermill": {
     "duration": 14.822386,
     "end_time": "2021-08-19T22:56:40.921009",
     "exception": false,
     "start_time": "2021-08-19T22:56:26.098623",
     "status": "completed"
    },
    "tags": []
   },
   "source": [
    "# Toxic Comments"
   ]
  },
  {
   "cell_type": "code",
   "execution_count": 20,
   "id": "demonstrated-peeing",
   "metadata": {
    "execution": {
     "iopub.execute_input": "2021-08-19T22:57:11.029361Z",
     "iopub.status.busy": "2021-08-19T22:57:11.028432Z",
     "iopub.status.idle": "2021-08-19T22:57:11.031058Z",
     "shell.execute_reply": "2021-08-19T22:57:11.030642Z"
    },
    "papermill": {
     "duration": 14.788983,
     "end_time": "2021-08-19T22:57:11.031174",
     "exception": false,
     "start_time": "2021-08-19T22:56:56.242191",
     "status": "completed"
    },
    "tags": []
   },
   "outputs": [],
   "source": [
    "toxic_speechs = [\n",
    "    'COCKSUCKER BEFORE YOU PISS AROUND ON MY WORK',\n",
    "    'MEL GIBSON IS A NAZI BITCH WHO MAKES SHITTY MOVIES. HE HAS SO MUCH BUTTSEX THAT HIS ASSHOLE IS NOW BIG ENOUGH TO BE CONSIDERED A COUNTRY.',\n",
    "    \"A block ohhhhhhhhhhhhhh noooooooooooo I'm soooo like gonna cry and like shit ... ha ha.  you think i care?  i dont even use wikipedia.  look at the serb reporting me to the geek squad, what are you like 5?  Rumor has it that you are another canadian serb.  Rumor has it that you have pissed of a select few from B93 & WP.   )  BYE BYE.\",\n",
    "    \"it is a constructive edit you idiot, every kid of every age should know that santa claus is fucking fictional. ever since i first heard of santa claus i knew that he was fictional, my parents didn't give me any delusions and if they had, i would've laughed in their faces and said it isn't logical because it fucking isn't. every kid should be logical just like i was and every kid should be able to logically fucking infer that there is no fucking santa claus in the real human universe.\",\n",
    "    'honestly ==\\nyou need to crawl under a rock and DIE YOU FAT BASTARD\\n\\n=='\n",
    "]"
   ]
  },
  {
   "cell_type": "code",
   "execution_count": 21,
   "id": "continental-northwest",
   "metadata": {
    "execution": {
     "iopub.execute_input": "2021-08-19T22:57:41.013871Z",
     "iopub.status.busy": "2021-08-19T22:57:41.013092Z",
     "iopub.status.idle": "2021-08-19T22:57:43.854365Z",
     "shell.execute_reply": "2021-08-19T22:57:43.853931Z"
    },
    "papermill": {
     "duration": 17.510078,
     "end_time": "2021-08-19T22:57:43.854510",
     "exception": false,
     "start_time": "2021-08-19T22:57:26.344432",
     "status": "completed"
    },
    "tags": []
   },
   "outputs": [
    {
     "name": "stdout",
     "output_type": "stream",
     "text": [
      "[[0.5430674]]\n",
      "[[0.38300273]]\n",
      "[[0.40779674]]\n",
      "[[0.63300586]]\n",
      "[[0.5390873]]\n"
     ]
    }
   ],
   "source": [
    "for speech in toxic_speechs:\n",
    "    prediction = h5_model.predict(prep_sentence(speech))\n",
    "    print(prediction)"
   ]
  },
  {
   "cell_type": "code",
   "execution_count": 22,
   "id": "formal-mistress",
   "metadata": {
    "execution": {
     "iopub.execute_input": "2021-08-19T22:58:13.891288Z",
     "iopub.status.busy": "2021-08-19T22:58:13.890426Z",
     "iopub.status.idle": "2021-08-19T22:58:16.966920Z",
     "shell.execute_reply": "2021-08-19T22:58:16.966286Z"
    },
    "papermill": {
     "duration": 17.906379,
     "end_time": "2021-08-19T22:58:16.967083",
     "exception": false,
     "start_time": "2021-08-19T22:57:59.060704",
     "status": "completed"
    },
    "tags": []
   },
   "outputs": [
    {
     "name": "stdout",
     "output_type": "stream",
     "text": [
      "[[0.5430674]]\n",
      "[[0.38300273]]\n",
      "[[0.40779674]]\n",
      "[[0.63300586]]\n",
      "[[0.5390873]]\n"
     ]
    }
   ],
   "source": [
    "for speech in toxic_speechs:\n",
    "    prediction = hdf5_model.predict(prep_sentence(speech))\n",
    "    print(prediction)"
   ]
  },
  {
   "cell_type": "markdown",
   "id": "american-tiffany",
   "metadata": {
    "papermill": {
     "duration": 14.651983,
     "end_time": "2021-08-19T22:58:46.892220",
     "exception": false,
     "start_time": "2021-08-19T22:58:32.240237",
     "status": "completed"
    },
    "tags": []
   },
   "source": [
    "# Non-Toxic Comments"
   ]
  },
  {
   "cell_type": "code",
   "execution_count": 23,
   "id": "absolute-intellectual",
   "metadata": {
    "execution": {
     "iopub.execute_input": "2021-08-19T22:59:17.049568Z",
     "iopub.status.busy": "2021-08-19T22:59:17.048685Z",
     "iopub.status.idle": "2021-08-19T22:59:17.051338Z",
     "shell.execute_reply": "2021-08-19T22:59:17.050909Z"
    },
    "papermill": {
     "duration": 14.717402,
     "end_time": "2021-08-19T22:59:17.051466",
     "exception": false,
     "start_time": "2021-08-19T22:59:02.334064",
     "status": "completed"
    },
    "tags": []
   },
   "outputs": [],
   "source": [
    "non_toxic_speechs = [\n",
    "    \"Gale, you're living proof why wikipedia should NEVER be trusted as fact. I mean, telling someone to blindly believe whatever's said instead of verifying? You need to take a walk in traffic for saying that!\\n\\n99.149.119.168\",\n",
    "    'EastEnders Manual of Style \\n\\nHello, just wanted you to be aware of the EE MoS, which helps us work out what is appropriate for Infoboxes etc.  Cheers,  (Talk)',\n",
    "    'You need to provide high-quality secondary sources (e.g., not original publications from medical experiments, but perhaps review articles or medical textbooks) that support this significant change in definition.',\n",
    "    \"I appreciate your responses, guys. I take the recommendation as an admin as a great compliment. However, since I move around so much and my knowledge of Wikipedia isn't where I would like it to be before I went after something like that, I will get back to you if the vote ever happens. In the mean time, I definitely appreciate the compliment. }\",    \n",
    "    \"Stop reinserting harrassing content on WP:ANI \\n\\nStop readding this material.  If you continue with this from other IP ranges or addresses we will be forced to block larger IP ranges from editing.  You aren't allowed to harrass people like this on Wikipedia.\"\n",
    "]"
   ]
  },
  {
   "cell_type": "code",
   "execution_count": 24,
   "id": "dangerous-emergency",
   "metadata": {
    "execution": {
     "iopub.execute_input": "2021-08-19T22:59:47.652533Z",
     "iopub.status.busy": "2021-08-19T22:59:47.651705Z",
     "iopub.status.idle": "2021-08-19T22:59:47.947681Z",
     "shell.execute_reply": "2021-08-19T22:59:47.948094Z"
    },
    "papermill": {
     "duration": 15.860862,
     "end_time": "2021-08-19T22:59:47.948238",
     "exception": false,
     "start_time": "2021-08-19T22:59:32.087376",
     "status": "completed"
    },
    "tags": []
   },
   "outputs": [
    {
     "name": "stdout",
     "output_type": "stream",
     "text": [
      "[[0.17475249]]\n",
      "[[0.01649178]]\n",
      "[[0.00066787]]\n",
      "[[0.013166]]\n",
      "[[0.05405284]]\n"
     ]
    }
   ],
   "source": [
    "for speech in non_toxic_speechs:\n",
    "    prediction = h5_model.predict(prep_sentence(speech))\n",
    "    print(prediction)"
   ]
  },
  {
   "cell_type": "code",
   "execution_count": 25,
   "id": "flexible-pendant",
   "metadata": {
    "execution": {
     "iopub.execute_input": "2021-08-19T23:00:17.860952Z",
     "iopub.status.busy": "2021-08-19T23:00:17.860141Z",
     "iopub.status.idle": "2021-08-19T23:00:18.171306Z",
     "shell.execute_reply": "2021-08-19T23:00:18.172058Z"
    },
    "papermill": {
     "duration": 15.614432,
     "end_time": "2021-08-19T23:00:18.172223",
     "exception": false,
     "start_time": "2021-08-19T23:00:02.557791",
     "status": "completed"
    },
    "tags": []
   },
   "outputs": [
    {
     "name": "stdout",
     "output_type": "stream",
     "text": [
      "[[0.17475249]]\n",
      "[[0.01649178]]\n",
      "[[0.00066787]]\n",
      "[[0.013166]]\n",
      "[[0.05405284]]\n"
     ]
    }
   ],
   "source": [
    "for speech in non_toxic_speechs:\n",
    "    prediction = hdf5_model.predict(prep_sentence(speech))\n",
    "    print(prediction)"
   ]
  },
  {
   "cell_type": "code",
   "execution_count": null,
   "id": "early-detector",
   "metadata": {
    "papermill": {
     "duration": 15.21352,
     "end_time": "2021-08-19T23:00:48.117275",
     "exception": false,
     "start_time": "2021-08-19T23:00:32.903755",
     "status": "completed"
    },
    "tags": []
   },
   "outputs": [],
   "source": []
  }
 ],
 "metadata": {
  "kernelspec": {
   "display_name": "Python 3 (ipykernel)",
   "language": "python",
   "name": "python3"
  },
  "language_info": {
   "codemirror_mode": {
    "name": "ipython",
    "version": 3
   },
   "file_extension": ".py",
   "mimetype": "text/x-python",
   "name": "python",
   "nbconvert_exporter": "python",
   "pygments_lexer": "ipython3",
   "version": "3.9.7"
  },
  "papermill": {
   "default_parameters": {},
   "duration": 11652.496717,
   "end_time": "2021-08-19T23:01:05.860322",
   "environment_variables": {},
   "exception": null,
   "input_path": "__notebook__.ipynb",
   "output_path": "__notebook__.ipynb",
   "parameters": {},
   "start_time": "2021-08-19T19:46:53.363605",
   "version": "2.3.3"
  },
  "widgets": {
   "application/vnd.jupyter.widget-state+json": {
    "state": {
     "11776a797f2749a5aba36d1882664fb3": {
      "model_module": "@jupyter-widgets/controls",
      "model_module_version": "1.5.0",
      "model_name": "FloatProgressModel",
      "state": {
       "_dom_classes": [],
       "_model_module": "@jupyter-widgets/controls",
       "_model_module_version": "1.5.0",
       "_model_name": "FloatProgressModel",
       "_view_count": null,
       "_view_module": "@jupyter-widgets/controls",
       "_view_module_version": "1.5.0",
       "_view_name": "ProgressView",
       "bar_style": "success",
       "description": "",
       "description_tooltip": null,
       "layout": "IPY_MODEL_7cc5a1073f1140d1934f209aa17a0179",
       "max": 570,
       "min": 0,
       "orientation": "horizontal",
       "style": "IPY_MODEL_7fe1682551d54d87a67738da5c461596",
       "value": 570
      }
     },
     "1cedd22ea08c4501a03cb06ce9048a9d": {
      "model_module": "@jupyter-widgets/controls",
      "model_module_version": "1.5.0",
      "model_name": "HTMLModel",
      "state": {
       "_dom_classes": [],
       "_model_module": "@jupyter-widgets/controls",
       "_model_module_version": "1.5.0",
       "_model_name": "HTMLModel",
       "_view_count": null,
       "_view_module": "@jupyter-widgets/controls",
       "_view_module_version": "1.5.0",
       "_view_name": "HTMLView",
       "description": "",
       "description_tooltip": null,
       "layout": "IPY_MODEL_f262705341cf4450915122b68987eadb",
       "placeholder": "​",
       "style": "IPY_MODEL_347c4b945be7490d9efc7e8c46a707e2",
       "value": " 213k/213k [00:00&lt;00:00, 684kB/s]"
      }
     },
     "21086f6a16884d199153332c45ab1ec0": {
      "model_module": "@jupyter-widgets/controls",
      "model_module_version": "1.5.0",
      "model_name": "HBoxModel",
      "state": {
       "_dom_classes": [],
       "_model_module": "@jupyter-widgets/controls",
       "_model_module_version": "1.5.0",
       "_model_name": "HBoxModel",
       "_view_count": null,
       "_view_module": "@jupyter-widgets/controls",
       "_view_module_version": "1.5.0",
       "_view_name": "HBoxView",
       "box_style": "",
       "children": [
        "IPY_MODEL_6f142fdd7fe5415286afc828a33570e9",
        "IPY_MODEL_a2a1cc813cf4403eb58ac5bfb3b6fde3",
        "IPY_MODEL_1cedd22ea08c4501a03cb06ce9048a9d"
       ],
       "layout": "IPY_MODEL_64f86f7434cb40c79d884f5403e77b3e"
      }
     },
     "282cee75055d412c9389a3c6e27221bc": {
      "model_module": "@jupyter-widgets/controls",
      "model_module_version": "1.5.0",
      "model_name": "HBoxModel",
      "state": {
       "_dom_classes": [],
       "_model_module": "@jupyter-widgets/controls",
       "_model_module_version": "1.5.0",
       "_model_name": "HBoxModel",
       "_view_count": null,
       "_view_module": "@jupyter-widgets/controls",
       "_view_module_version": "1.5.0",
       "_view_name": "HBoxView",
       "box_style": "",
       "children": [
        "IPY_MODEL_4e271d1ca46747f4aa1c7449a24bc96a",
        "IPY_MODEL_d3d8c6dffdf14cd6a8d2a88c523039e3",
        "IPY_MODEL_3d6d31893ba749c4873e20e08584799e"
       ],
       "layout": "IPY_MODEL_e631557812f341018c565d51302277a6"
      }
     },
     "3097d2b3edce412687ff5bfa83f09e45": {
      "model_module": "@jupyter-widgets/controls",
      "model_module_version": "1.5.0",
      "model_name": "DescriptionStyleModel",
      "state": {
       "_model_module": "@jupyter-widgets/controls",
       "_model_module_version": "1.5.0",
       "_model_name": "DescriptionStyleModel",
       "_view_count": null,
       "_view_module": "@jupyter-widgets/base",
       "_view_module_version": "1.2.0",
       "_view_name": "StyleView",
       "description_width": ""
      }
     },
     "33c3a69f3cbf4d59874dc2d5f5170bfe": {
      "model_module": "@jupyter-widgets/controls",
      "model_module_version": "1.5.0",
      "model_name": "HTMLModel",
      "state": {
       "_dom_classes": [],
       "_model_module": "@jupyter-widgets/controls",
       "_model_module_version": "1.5.0",
       "_model_name": "HTMLModel",
       "_view_count": null,
       "_view_module": "@jupyter-widgets/controls",
       "_view_module_version": "1.5.0",
       "_view_name": "HTMLView",
       "description": "",
       "description_tooltip": null,
       "layout": "IPY_MODEL_6f06e32b8b4641fe90dbb777d485e15d",
       "placeholder": "​",
       "style": "IPY_MODEL_9e0154eb0ae24b008605fc347fb589ad",
       "value": "Downloading: 100%"
      }
     },
     "347c4b945be7490d9efc7e8c46a707e2": {
      "model_module": "@jupyter-widgets/controls",
      "model_module_version": "1.5.0",
      "model_name": "DescriptionStyleModel",
      "state": {
       "_model_module": "@jupyter-widgets/controls",
       "_model_module_version": "1.5.0",
       "_model_name": "DescriptionStyleModel",
       "_view_count": null,
       "_view_module": "@jupyter-widgets/base",
       "_view_module_version": "1.2.0",
       "_view_name": "StyleView",
       "description_width": ""
      }
     },
     "35fe6e0a39e049d285e48cbc00d88ec6": {
      "model_module": "@jupyter-widgets/base",
      "model_module_version": "1.2.0",
      "model_name": "LayoutModel",
      "state": {
       "_model_module": "@jupyter-widgets/base",
       "_model_module_version": "1.2.0",
       "_model_name": "LayoutModel",
       "_view_count": null,
       "_view_module": "@jupyter-widgets/base",
       "_view_module_version": "1.2.0",
       "_view_name": "LayoutView",
       "align_content": null,
       "align_items": null,
       "align_self": null,
       "border": null,
       "bottom": null,
       "display": null,
       "flex": null,
       "flex_flow": null,
       "grid_area": null,
       "grid_auto_columns": null,
       "grid_auto_flow": null,
       "grid_auto_rows": null,
       "grid_column": null,
       "grid_gap": null,
       "grid_row": null,
       "grid_template_areas": null,
       "grid_template_columns": null,
       "grid_template_rows": null,
       "height": null,
       "justify_content": null,
       "justify_items": null,
       "left": null,
       "margin": null,
       "max_height": null,
       "max_width": null,
       "min_height": null,
       "min_width": null,
       "object_fit": null,
       "object_position": null,
       "order": null,
       "overflow": null,
       "overflow_x": null,
       "overflow_y": null,
       "padding": null,
       "right": null,
       "top": null,
       "visibility": null,
       "width": null
      }
     },
     "3a3a6303d1594adabc7762aec5e12da9": {
      "model_module": "@jupyter-widgets/controls",
      "model_module_version": "1.5.0",
      "model_name": "ProgressStyleModel",
      "state": {
       "_model_module": "@jupyter-widgets/controls",
       "_model_module_version": "1.5.0",
       "_model_name": "ProgressStyleModel",
       "_view_count": null,
       "_view_module": "@jupyter-widgets/base",
       "_view_module_version": "1.2.0",
       "_view_name": "StyleView",
       "bar_color": null,
       "description_width": ""
      }
     },
     "3c8b4993c0f64d4eb604551b25ede855": {
      "model_module": "@jupyter-widgets/base",
      "model_module_version": "1.2.0",
      "model_name": "LayoutModel",
      "state": {
       "_model_module": "@jupyter-widgets/base",
       "_model_module_version": "1.2.0",
       "_model_name": "LayoutModel",
       "_view_count": null,
       "_view_module": "@jupyter-widgets/base",
       "_view_module_version": "1.2.0",
       "_view_name": "LayoutView",
       "align_content": null,
       "align_items": null,
       "align_self": null,
       "border": null,
       "bottom": null,
       "display": null,
       "flex": null,
       "flex_flow": null,
       "grid_area": null,
       "grid_auto_columns": null,
       "grid_auto_flow": null,
       "grid_auto_rows": null,
       "grid_column": null,
       "grid_gap": null,
       "grid_row": null,
       "grid_template_areas": null,
       "grid_template_columns": null,
       "grid_template_rows": null,
       "height": null,
       "justify_content": null,
       "justify_items": null,
       "left": null,
       "margin": null,
       "max_height": null,
       "max_width": null,
       "min_height": null,
       "min_width": null,
       "object_fit": null,
       "object_position": null,
       "order": null,
       "overflow": null,
       "overflow_x": null,
       "overflow_y": null,
       "padding": null,
       "right": null,
       "top": null,
       "visibility": null,
       "width": null
      }
     },
     "3d6d31893ba749c4873e20e08584799e": {
      "model_module": "@jupyter-widgets/controls",
      "model_module_version": "1.5.0",
      "model_name": "HTMLModel",
      "state": {
       "_dom_classes": [],
       "_model_module": "@jupyter-widgets/controls",
       "_model_module_version": "1.5.0",
       "_model_name": "HTMLModel",
       "_view_count": null,
       "_view_module": "@jupyter-widgets/controls",
       "_view_module_version": "1.5.0",
       "_view_name": "HTMLView",
       "description": "",
       "description_tooltip": null,
       "layout": "IPY_MODEL_35fe6e0a39e049d285e48cbc00d88ec6",
       "placeholder": "​",
       "style": "IPY_MODEL_e788f3834c83477b92f9a9dda016a44f",
       "value": " 436k/436k [00:00&lt;00:00, 597kB/s]"
      }
     },
     "4522b879ecc445e8a4ed808788cede82": {
      "model_module": "@jupyter-widgets/controls",
      "model_module_version": "1.5.0",
      "model_name": "DescriptionStyleModel",
      "state": {
       "_model_module": "@jupyter-widgets/controls",
       "_model_module_version": "1.5.0",
       "_model_name": "DescriptionStyleModel",
       "_view_count": null,
       "_view_module": "@jupyter-widgets/base",
       "_view_module_version": "1.2.0",
       "_view_name": "StyleView",
       "description_width": ""
      }
     },
     "4c1da4d9a83c44bf8664efbf550a081f": {
      "model_module": "@jupyter-widgets/base",
      "model_module_version": "1.2.0",
      "model_name": "LayoutModel",
      "state": {
       "_model_module": "@jupyter-widgets/base",
       "_model_module_version": "1.2.0",
       "_model_name": "LayoutModel",
       "_view_count": null,
       "_view_module": "@jupyter-widgets/base",
       "_view_module_version": "1.2.0",
       "_view_name": "LayoutView",
       "align_content": null,
       "align_items": null,
       "align_self": null,
       "border": null,
       "bottom": null,
       "display": null,
       "flex": null,
       "flex_flow": null,
       "grid_area": null,
       "grid_auto_columns": null,
       "grid_auto_flow": null,
       "grid_auto_rows": null,
       "grid_column": null,
       "grid_gap": null,
       "grid_row": null,
       "grid_template_areas": null,
       "grid_template_columns": null,
       "grid_template_rows": null,
       "height": null,
       "justify_content": null,
       "justify_items": null,
       "left": null,
       "margin": null,
       "max_height": null,
       "max_width": null,
       "min_height": null,
       "min_width": null,
       "object_fit": null,
       "object_position": null,
       "order": null,
       "overflow": null,
       "overflow_x": null,
       "overflow_y": null,
       "padding": null,
       "right": null,
       "top": null,
       "visibility": null,
       "width": null
      }
     },
     "4c8e6db661eb49179c95cbaa971039b1": {
      "model_module": "@jupyter-widgets/controls",
      "model_module_version": "1.5.0",
      "model_name": "HTMLModel",
      "state": {
       "_dom_classes": [],
       "_model_module": "@jupyter-widgets/controls",
       "_model_module_version": "1.5.0",
       "_model_name": "HTMLModel",
       "_view_count": null,
       "_view_module": "@jupyter-widgets/controls",
       "_view_module_version": "1.5.0",
       "_view_name": "HTMLView",
       "description": "",
       "description_tooltip": null,
       "layout": "IPY_MODEL_3c8b4993c0f64d4eb604551b25ede855",
       "placeholder": "​",
       "style": "IPY_MODEL_845c362449184919b9d31e777fdf36b8",
       "value": " 29.0/29.0 [00:00&lt;00:00, 1.07kB/s]"
      }
     },
     "4e271d1ca46747f4aa1c7449a24bc96a": {
      "model_module": "@jupyter-widgets/controls",
      "model_module_version": "1.5.0",
      "model_name": "HTMLModel",
      "state": {
       "_dom_classes": [],
       "_model_module": "@jupyter-widgets/controls",
       "_model_module_version": "1.5.0",
       "_model_name": "HTMLModel",
       "_view_count": null,
       "_view_module": "@jupyter-widgets/controls",
       "_view_module_version": "1.5.0",
       "_view_name": "HTMLView",
       "description": "",
       "description_tooltip": null,
       "layout": "IPY_MODEL_6d018f6791a1474d9bfc9d69b883d3bb",
       "placeholder": "​",
       "style": "IPY_MODEL_4522b879ecc445e8a4ed808788cede82",
       "value": "Downloading: 100%"
      }
     },
     "5b5f59d9493c40c4a6239c83df95657c": {
      "model_module": "@jupyter-widgets/base",
      "model_module_version": "1.2.0",
      "model_name": "LayoutModel",
      "state": {
       "_model_module": "@jupyter-widgets/base",
       "_model_module_version": "1.2.0",
       "_model_name": "LayoutModel",
       "_view_count": null,
       "_view_module": "@jupyter-widgets/base",
       "_view_module_version": "1.2.0",
       "_view_name": "LayoutView",
       "align_content": null,
       "align_items": null,
       "align_self": null,
       "border": null,
       "bottom": null,
       "display": null,
       "flex": null,
       "flex_flow": null,
       "grid_area": null,
       "grid_auto_columns": null,
       "grid_auto_flow": null,
       "grid_auto_rows": null,
       "grid_column": null,
       "grid_gap": null,
       "grid_row": null,
       "grid_template_areas": null,
       "grid_template_columns": null,
       "grid_template_rows": null,
       "height": null,
       "justify_content": null,
       "justify_items": null,
       "left": null,
       "margin": null,
       "max_height": null,
       "max_width": null,
       "min_height": null,
       "min_width": null,
       "object_fit": null,
       "object_position": null,
       "order": null,
       "overflow": null,
       "overflow_x": null,
       "overflow_y": null,
       "padding": null,
       "right": null,
       "top": null,
       "visibility": null,
       "width": null
      }
     },
     "64f86f7434cb40c79d884f5403e77b3e": {
      "model_module": "@jupyter-widgets/base",
      "model_module_version": "1.2.0",
      "model_name": "LayoutModel",
      "state": {
       "_model_module": "@jupyter-widgets/base",
       "_model_module_version": "1.2.0",
       "_model_name": "LayoutModel",
       "_view_count": null,
       "_view_module": "@jupyter-widgets/base",
       "_view_module_version": "1.2.0",
       "_view_name": "LayoutView",
       "align_content": null,
       "align_items": null,
       "align_self": null,
       "border": null,
       "bottom": null,
       "display": null,
       "flex": null,
       "flex_flow": null,
       "grid_area": null,
       "grid_auto_columns": null,
       "grid_auto_flow": null,
       "grid_auto_rows": null,
       "grid_column": null,
       "grid_gap": null,
       "grid_row": null,
       "grid_template_areas": null,
       "grid_template_columns": null,
       "grid_template_rows": null,
       "height": null,
       "justify_content": null,
       "justify_items": null,
       "left": null,
       "margin": null,
       "max_height": null,
       "max_width": null,
       "min_height": null,
       "min_width": null,
       "object_fit": null,
       "object_position": null,
       "order": null,
       "overflow": null,
       "overflow_x": null,
       "overflow_y": null,
       "padding": null,
       "right": null,
       "top": null,
       "visibility": null,
       "width": null
      }
     },
     "674dda4da15046b7b51f7c0cdd8e1c8d": {
      "model_module": "@jupyter-widgets/controls",
      "model_module_version": "1.5.0",
      "model_name": "HTMLModel",
      "state": {
       "_dom_classes": [],
       "_model_module": "@jupyter-widgets/controls",
       "_model_module_version": "1.5.0",
       "_model_name": "HTMLModel",
       "_view_count": null,
       "_view_module": "@jupyter-widgets/controls",
       "_view_module_version": "1.5.0",
       "_view_name": "HTMLView",
       "description": "",
       "description_tooltip": null,
       "layout": "IPY_MODEL_95a17fb9e5994fd892c24a2ea3e23a41",
       "placeholder": "​",
       "style": "IPY_MODEL_f97a5f6733a14b01a79d34d5d06b84b3",
       "value": "Downloading: 100%"
      }
     },
     "6918741bcacd4c1ea4602ef82e7579b5": {
      "model_module": "@jupyter-widgets/controls",
      "model_module_version": "1.5.0",
      "model_name": "HTMLModel",
      "state": {
       "_dom_classes": [],
       "_model_module": "@jupyter-widgets/controls",
       "_model_module_version": "1.5.0",
       "_model_name": "HTMLModel",
       "_view_count": null,
       "_view_module": "@jupyter-widgets/controls",
       "_view_module_version": "1.5.0",
       "_view_name": "HTMLView",
       "description": "",
       "description_tooltip": null,
       "layout": "IPY_MODEL_4c1da4d9a83c44bf8664efbf550a081f",
       "placeholder": "​",
       "style": "IPY_MODEL_7442fd9bfe4842929ee806c8ee1b1015",
       "value": " 527M/527M [00:28&lt;00:00, 19.0MB/s]"
      }
     },
     "6ab955865fc24eba97ab612a89f603e8": {
      "model_module": "@jupyter-widgets/base",
      "model_module_version": "1.2.0",
      "model_name": "LayoutModel",
      "state": {
       "_model_module": "@jupyter-widgets/base",
       "_model_module_version": "1.2.0",
       "_model_name": "LayoutModel",
       "_view_count": null,
       "_view_module": "@jupyter-widgets/base",
       "_view_module_version": "1.2.0",
       "_view_name": "LayoutView",
       "align_content": null,
       "align_items": null,
       "align_self": null,
       "border": null,
       "bottom": null,
       "display": null,
       "flex": null,
       "flex_flow": null,
       "grid_area": null,
       "grid_auto_columns": null,
       "grid_auto_flow": null,
       "grid_auto_rows": null,
       "grid_column": null,
       "grid_gap": null,
       "grid_row": null,
       "grid_template_areas": null,
       "grid_template_columns": null,
       "grid_template_rows": null,
       "height": null,
       "justify_content": null,
       "justify_items": null,
       "left": null,
       "margin": null,
       "max_height": null,
       "max_width": null,
       "min_height": null,
       "min_width": null,
       "object_fit": null,
       "object_position": null,
       "order": null,
       "overflow": null,
       "overflow_x": null,
       "overflow_y": null,
       "padding": null,
       "right": null,
       "top": null,
       "visibility": null,
       "width": null
      }
     },
     "6d018f6791a1474d9bfc9d69b883d3bb": {
      "model_module": "@jupyter-widgets/base",
      "model_module_version": "1.2.0",
      "model_name": "LayoutModel",
      "state": {
       "_model_module": "@jupyter-widgets/base",
       "_model_module_version": "1.2.0",
       "_model_name": "LayoutModel",
       "_view_count": null,
       "_view_module": "@jupyter-widgets/base",
       "_view_module_version": "1.2.0",
       "_view_name": "LayoutView",
       "align_content": null,
       "align_items": null,
       "align_self": null,
       "border": null,
       "bottom": null,
       "display": null,
       "flex": null,
       "flex_flow": null,
       "grid_area": null,
       "grid_auto_columns": null,
       "grid_auto_flow": null,
       "grid_auto_rows": null,
       "grid_column": null,
       "grid_gap": null,
       "grid_row": null,
       "grid_template_areas": null,
       "grid_template_columns": null,
       "grid_template_rows": null,
       "height": null,
       "justify_content": null,
       "justify_items": null,
       "left": null,
       "margin": null,
       "max_height": null,
       "max_width": null,
       "min_height": null,
       "min_width": null,
       "object_fit": null,
       "object_position": null,
       "order": null,
       "overflow": null,
       "overflow_x": null,
       "overflow_y": null,
       "padding": null,
       "right": null,
       "top": null,
       "visibility": null,
       "width": null
      }
     },
     "6f06e32b8b4641fe90dbb777d485e15d": {
      "model_module": "@jupyter-widgets/base",
      "model_module_version": "1.2.0",
      "model_name": "LayoutModel",
      "state": {
       "_model_module": "@jupyter-widgets/base",
       "_model_module_version": "1.2.0",
       "_model_name": "LayoutModel",
       "_view_count": null,
       "_view_module": "@jupyter-widgets/base",
       "_view_module_version": "1.2.0",
       "_view_name": "LayoutView",
       "align_content": null,
       "align_items": null,
       "align_self": null,
       "border": null,
       "bottom": null,
       "display": null,
       "flex": null,
       "flex_flow": null,
       "grid_area": null,
       "grid_auto_columns": null,
       "grid_auto_flow": null,
       "grid_auto_rows": null,
       "grid_column": null,
       "grid_gap": null,
       "grid_row": null,
       "grid_template_areas": null,
       "grid_template_columns": null,
       "grid_template_rows": null,
       "height": null,
       "justify_content": null,
       "justify_items": null,
       "left": null,
       "margin": null,
       "max_height": null,
       "max_width": null,
       "min_height": null,
       "min_width": null,
       "object_fit": null,
       "object_position": null,
       "order": null,
       "overflow": null,
       "overflow_x": null,
       "overflow_y": null,
       "padding": null,
       "right": null,
       "top": null,
       "visibility": null,
       "width": null
      }
     },
     "6f142fdd7fe5415286afc828a33570e9": {
      "model_module": "@jupyter-widgets/controls",
      "model_module_version": "1.5.0",
      "model_name": "HTMLModel",
      "state": {
       "_dom_classes": [],
       "_model_module": "@jupyter-widgets/controls",
       "_model_module_version": "1.5.0",
       "_model_name": "HTMLModel",
       "_view_count": null,
       "_view_module": "@jupyter-widgets/controls",
       "_view_module_version": "1.5.0",
       "_view_name": "HTMLView",
       "description": "",
       "description_tooltip": null,
       "layout": "IPY_MODEL_7df4aa4ee7b543e4a9c6a6270e798935",
       "placeholder": "​",
       "style": "IPY_MODEL_3097d2b3edce412687ff5bfa83f09e45",
       "value": "Downloading: 100%"
      }
     },
     "7442fd9bfe4842929ee806c8ee1b1015": {
      "model_module": "@jupyter-widgets/controls",
      "model_module_version": "1.5.0",
      "model_name": "DescriptionStyleModel",
      "state": {
       "_model_module": "@jupyter-widgets/controls",
       "_model_module_version": "1.5.0",
       "_model_name": "DescriptionStyleModel",
       "_view_count": null,
       "_view_module": "@jupyter-widgets/base",
       "_view_module_version": "1.2.0",
       "_view_name": "StyleView",
       "description_width": ""
      }
     },
     "7cc5a1073f1140d1934f209aa17a0179": {
      "model_module": "@jupyter-widgets/base",
      "model_module_version": "1.2.0",
      "model_name": "LayoutModel",
      "state": {
       "_model_module": "@jupyter-widgets/base",
       "_model_module_version": "1.2.0",
       "_model_name": "LayoutModel",
       "_view_count": null,
       "_view_module": "@jupyter-widgets/base",
       "_view_module_version": "1.2.0",
       "_view_name": "LayoutView",
       "align_content": null,
       "align_items": null,
       "align_self": null,
       "border": null,
       "bottom": null,
       "display": null,
       "flex": null,
       "flex_flow": null,
       "grid_area": null,
       "grid_auto_columns": null,
       "grid_auto_flow": null,
       "grid_auto_rows": null,
       "grid_column": null,
       "grid_gap": null,
       "grid_row": null,
       "grid_template_areas": null,
       "grid_template_columns": null,
       "grid_template_rows": null,
       "height": null,
       "justify_content": null,
       "justify_items": null,
       "left": null,
       "margin": null,
       "max_height": null,
       "max_width": null,
       "min_height": null,
       "min_width": null,
       "object_fit": null,
       "object_position": null,
       "order": null,
       "overflow": null,
       "overflow_x": null,
       "overflow_y": null,
       "padding": null,
       "right": null,
       "top": null,
       "visibility": null,
       "width": null
      }
     },
     "7d0c2cac2c504547a2abd29cb9135228": {
      "model_module": "@jupyter-widgets/base",
      "model_module_version": "1.2.0",
      "model_name": "LayoutModel",
      "state": {
       "_model_module": "@jupyter-widgets/base",
       "_model_module_version": "1.2.0",
       "_model_name": "LayoutModel",
       "_view_count": null,
       "_view_module": "@jupyter-widgets/base",
       "_view_module_version": "1.2.0",
       "_view_name": "LayoutView",
       "align_content": null,
       "align_items": null,
       "align_self": null,
       "border": null,
       "bottom": null,
       "display": null,
       "flex": null,
       "flex_flow": null,
       "grid_area": null,
       "grid_auto_columns": null,
       "grid_auto_flow": null,
       "grid_auto_rows": null,
       "grid_column": null,
       "grid_gap": null,
       "grid_row": null,
       "grid_template_areas": null,
       "grid_template_columns": null,
       "grid_template_rows": null,
       "height": null,
       "justify_content": null,
       "justify_items": null,
       "left": null,
       "margin": null,
       "max_height": null,
       "max_width": null,
       "min_height": null,
       "min_width": null,
       "object_fit": null,
       "object_position": null,
       "order": null,
       "overflow": null,
       "overflow_x": null,
       "overflow_y": null,
       "padding": null,
       "right": null,
       "top": null,
       "visibility": null,
       "width": null
      }
     },
     "7df4aa4ee7b543e4a9c6a6270e798935": {
      "model_module": "@jupyter-widgets/base",
      "model_module_version": "1.2.0",
      "model_name": "LayoutModel",
      "state": {
       "_model_module": "@jupyter-widgets/base",
       "_model_module_version": "1.2.0",
       "_model_name": "LayoutModel",
       "_view_count": null,
       "_view_module": "@jupyter-widgets/base",
       "_view_module_version": "1.2.0",
       "_view_name": "LayoutView",
       "align_content": null,
       "align_items": null,
       "align_self": null,
       "border": null,
       "bottom": null,
       "display": null,
       "flex": null,
       "flex_flow": null,
       "grid_area": null,
       "grid_auto_columns": null,
       "grid_auto_flow": null,
       "grid_auto_rows": null,
       "grid_column": null,
       "grid_gap": null,
       "grid_row": null,
       "grid_template_areas": null,
       "grid_template_columns": null,
       "grid_template_rows": null,
       "height": null,
       "justify_content": null,
       "justify_items": null,
       "left": null,
       "margin": null,
       "max_height": null,
       "max_width": null,
       "min_height": null,
       "min_width": null,
       "object_fit": null,
       "object_position": null,
       "order": null,
       "overflow": null,
       "overflow_x": null,
       "overflow_y": null,
       "padding": null,
       "right": null,
       "top": null,
       "visibility": null,
       "width": null
      }
     },
     "7fe1682551d54d87a67738da5c461596": {
      "model_module": "@jupyter-widgets/controls",
      "model_module_version": "1.5.0",
      "model_name": "ProgressStyleModel",
      "state": {
       "_model_module": "@jupyter-widgets/controls",
       "_model_module_version": "1.5.0",
       "_model_name": "ProgressStyleModel",
       "_view_count": null,
       "_view_module": "@jupyter-widgets/base",
       "_view_module_version": "1.2.0",
       "_view_name": "StyleView",
       "bar_color": null,
       "description_width": ""
      }
     },
     "845c362449184919b9d31e777fdf36b8": {
      "model_module": "@jupyter-widgets/controls",
      "model_module_version": "1.5.0",
      "model_name": "DescriptionStyleModel",
      "state": {
       "_model_module": "@jupyter-widgets/controls",
       "_model_module_version": "1.5.0",
       "_model_name": "DescriptionStyleModel",
       "_view_count": null,
       "_view_module": "@jupyter-widgets/base",
       "_view_module_version": "1.2.0",
       "_view_name": "StyleView",
       "description_width": ""
      }
     },
     "8574707a164349ceb42bc907baac3f61": {
      "model_module": "@jupyter-widgets/controls",
      "model_module_version": "1.5.0",
      "model_name": "HBoxModel",
      "state": {
       "_dom_classes": [],
       "_model_module": "@jupyter-widgets/controls",
       "_model_module_version": "1.5.0",
       "_model_name": "HBoxModel",
       "_view_count": null,
       "_view_module": "@jupyter-widgets/controls",
       "_view_module_version": "1.5.0",
       "_view_name": "HBoxView",
       "box_style": "",
       "children": [
        "IPY_MODEL_674dda4da15046b7b51f7c0cdd8e1c8d",
        "IPY_MODEL_f01a57898d0e44d69e6048624841d154",
        "IPY_MODEL_4c8e6db661eb49179c95cbaa971039b1"
       ],
       "layout": "IPY_MODEL_6ab955865fc24eba97ab612a89f603e8"
      }
     },
     "88596db6903344fabc7c952dc4a6221e": {
      "model_module": "@jupyter-widgets/base",
      "model_module_version": "1.2.0",
      "model_name": "LayoutModel",
      "state": {
       "_model_module": "@jupyter-widgets/base",
       "_model_module_version": "1.2.0",
       "_model_name": "LayoutModel",
       "_view_count": null,
       "_view_module": "@jupyter-widgets/base",
       "_view_module_version": "1.2.0",
       "_view_name": "LayoutView",
       "align_content": null,
       "align_items": null,
       "align_self": null,
       "border": null,
       "bottom": null,
       "display": null,
       "flex": null,
       "flex_flow": null,
       "grid_area": null,
       "grid_auto_columns": null,
       "grid_auto_flow": null,
       "grid_auto_rows": null,
       "grid_column": null,
       "grid_gap": null,
       "grid_row": null,
       "grid_template_areas": null,
       "grid_template_columns": null,
       "grid_template_rows": null,
       "height": null,
       "justify_content": null,
       "justify_items": null,
       "left": null,
       "margin": null,
       "max_height": null,
       "max_width": null,
       "min_height": null,
       "min_width": null,
       "object_fit": null,
       "object_position": null,
       "order": null,
       "overflow": null,
       "overflow_x": null,
       "overflow_y": null,
       "padding": null,
       "right": null,
       "top": null,
       "visibility": null,
       "width": null
      }
     },
     "9234b845067243b4b3f44da8d5c400e4": {
      "model_module": "@jupyter-widgets/controls",
      "model_module_version": "1.5.0",
      "model_name": "ProgressStyleModel",
      "state": {
       "_model_module": "@jupyter-widgets/controls",
       "_model_module_version": "1.5.0",
       "_model_name": "ProgressStyleModel",
       "_view_count": null,
       "_view_module": "@jupyter-widgets/base",
       "_view_module_version": "1.2.0",
       "_view_name": "StyleView",
       "bar_color": null,
       "description_width": ""
      }
     },
     "929cf4d186404d7eaebd3a93ecda6f2b": {
      "model_module": "@jupyter-widgets/controls",
      "model_module_version": "1.5.0",
      "model_name": "ProgressStyleModel",
      "state": {
       "_model_module": "@jupyter-widgets/controls",
       "_model_module_version": "1.5.0",
       "_model_name": "ProgressStyleModel",
       "_view_count": null,
       "_view_module": "@jupyter-widgets/base",
       "_view_module_version": "1.2.0",
       "_view_name": "StyleView",
       "bar_color": null,
       "description_width": ""
      }
     },
     "95a17fb9e5994fd892c24a2ea3e23a41": {
      "model_module": "@jupyter-widgets/base",
      "model_module_version": "1.2.0",
      "model_name": "LayoutModel",
      "state": {
       "_model_module": "@jupyter-widgets/base",
       "_model_module_version": "1.2.0",
       "_model_name": "LayoutModel",
       "_view_count": null,
       "_view_module": "@jupyter-widgets/base",
       "_view_module_version": "1.2.0",
       "_view_name": "LayoutView",
       "align_content": null,
       "align_items": null,
       "align_self": null,
       "border": null,
       "bottom": null,
       "display": null,
       "flex": null,
       "flex_flow": null,
       "grid_area": null,
       "grid_auto_columns": null,
       "grid_auto_flow": null,
       "grid_auto_rows": null,
       "grid_column": null,
       "grid_gap": null,
       "grid_row": null,
       "grid_template_areas": null,
       "grid_template_columns": null,
       "grid_template_rows": null,
       "height": null,
       "justify_content": null,
       "justify_items": null,
       "left": null,
       "margin": null,
       "max_height": null,
       "max_width": null,
       "min_height": null,
       "min_width": null,
       "object_fit": null,
       "object_position": null,
       "order": null,
       "overflow": null,
       "overflow_x": null,
       "overflow_y": null,
       "padding": null,
       "right": null,
       "top": null,
       "visibility": null,
       "width": null
      }
     },
     "9e0154eb0ae24b008605fc347fb589ad": {
      "model_module": "@jupyter-widgets/controls",
      "model_module_version": "1.5.0",
      "model_name": "DescriptionStyleModel",
      "state": {
       "_model_module": "@jupyter-widgets/controls",
       "_model_module_version": "1.5.0",
       "_model_name": "DescriptionStyleModel",
       "_view_count": null,
       "_view_module": "@jupyter-widgets/base",
       "_view_module_version": "1.2.0",
       "_view_name": "StyleView",
       "description_width": ""
      }
     },
     "9f6a213d722d472aa0f884874246f184": {
      "model_module": "@jupyter-widgets/controls",
      "model_module_version": "1.5.0",
      "model_name": "DescriptionStyleModel",
      "state": {
       "_model_module": "@jupyter-widgets/controls",
       "_model_module_version": "1.5.0",
       "_model_name": "DescriptionStyleModel",
       "_view_count": null,
       "_view_module": "@jupyter-widgets/base",
       "_view_module_version": "1.2.0",
       "_view_name": "StyleView",
       "description_width": ""
      }
     },
     "a1c8c817afc443588f794b752d649717": {
      "model_module": "@jupyter-widgets/base",
      "model_module_version": "1.2.0",
      "model_name": "LayoutModel",
      "state": {
       "_model_module": "@jupyter-widgets/base",
       "_model_module_version": "1.2.0",
       "_model_name": "LayoutModel",
       "_view_count": null,
       "_view_module": "@jupyter-widgets/base",
       "_view_module_version": "1.2.0",
       "_view_name": "LayoutView",
       "align_content": null,
       "align_items": null,
       "align_self": null,
       "border": null,
       "bottom": null,
       "display": null,
       "flex": null,
       "flex_flow": null,
       "grid_area": null,
       "grid_auto_columns": null,
       "grid_auto_flow": null,
       "grid_auto_rows": null,
       "grid_column": null,
       "grid_gap": null,
       "grid_row": null,
       "grid_template_areas": null,
       "grid_template_columns": null,
       "grid_template_rows": null,
       "height": null,
       "justify_content": null,
       "justify_items": null,
       "left": null,
       "margin": null,
       "max_height": null,
       "max_width": null,
       "min_height": null,
       "min_width": null,
       "object_fit": null,
       "object_position": null,
       "order": null,
       "overflow": null,
       "overflow_x": null,
       "overflow_y": null,
       "padding": null,
       "right": null,
       "top": null,
       "visibility": null,
       "width": null
      }
     },
     "a2a1cc813cf4403eb58ac5bfb3b6fde3": {
      "model_module": "@jupyter-widgets/controls",
      "model_module_version": "1.5.0",
      "model_name": "FloatProgressModel",
      "state": {
       "_dom_classes": [],
       "_model_module": "@jupyter-widgets/controls",
       "_model_module_version": "1.5.0",
       "_model_name": "FloatProgressModel",
       "_view_count": null,
       "_view_module": "@jupyter-widgets/controls",
       "_view_module_version": "1.5.0",
       "_view_name": "ProgressView",
       "bar_style": "success",
       "description": "",
       "description_tooltip": null,
       "layout": "IPY_MODEL_a1c8c817afc443588f794b752d649717",
       "max": 213450,
       "min": 0,
       "orientation": "horizontal",
       "style": "IPY_MODEL_d7eb967c9ab445f19b994b927be402e7",
       "value": 213450
      }
     },
     "ad16c38ff6fa4be5afb438833169f67a": {
      "model_module": "@jupyter-widgets/controls",
      "model_module_version": "1.5.0",
      "model_name": "DescriptionStyleModel",
      "state": {
       "_model_module": "@jupyter-widgets/controls",
       "_model_module_version": "1.5.0",
       "_model_name": "DescriptionStyleModel",
       "_view_count": null,
       "_view_module": "@jupyter-widgets/base",
       "_view_module_version": "1.2.0",
       "_view_name": "StyleView",
       "description_width": ""
      }
     },
     "b40d8ab430674239ab4bef871631f381": {
      "model_module": "@jupyter-widgets/base",
      "model_module_version": "1.2.0",
      "model_name": "LayoutModel",
      "state": {
       "_model_module": "@jupyter-widgets/base",
       "_model_module_version": "1.2.0",
       "_model_name": "LayoutModel",
       "_view_count": null,
       "_view_module": "@jupyter-widgets/base",
       "_view_module_version": "1.2.0",
       "_view_name": "LayoutView",
       "align_content": null,
       "align_items": null,
       "align_self": null,
       "border": null,
       "bottom": null,
       "display": null,
       "flex": null,
       "flex_flow": null,
       "grid_area": null,
       "grid_auto_columns": null,
       "grid_auto_flow": null,
       "grid_auto_rows": null,
       "grid_column": null,
       "grid_gap": null,
       "grid_row": null,
       "grid_template_areas": null,
       "grid_template_columns": null,
       "grid_template_rows": null,
       "height": null,
       "justify_content": null,
       "justify_items": null,
       "left": null,
       "margin": null,
       "max_height": null,
       "max_width": null,
       "min_height": null,
       "min_width": null,
       "object_fit": null,
       "object_position": null,
       "order": null,
       "overflow": null,
       "overflow_x": null,
       "overflow_y": null,
       "padding": null,
       "right": null,
       "top": null,
       "visibility": null,
       "width": null
      }
     },
     "bc444e9b308047419e2307520fd795b2": {
      "model_module": "@jupyter-widgets/base",
      "model_module_version": "1.2.0",
      "model_name": "LayoutModel",
      "state": {
       "_model_module": "@jupyter-widgets/base",
       "_model_module_version": "1.2.0",
       "_model_name": "LayoutModel",
       "_view_count": null,
       "_view_module": "@jupyter-widgets/base",
       "_view_module_version": "1.2.0",
       "_view_name": "LayoutView",
       "align_content": null,
       "align_items": null,
       "align_self": null,
       "border": null,
       "bottom": null,
       "display": null,
       "flex": null,
       "flex_flow": null,
       "grid_area": null,
       "grid_auto_columns": null,
       "grid_auto_flow": null,
       "grid_auto_rows": null,
       "grid_column": null,
       "grid_gap": null,
       "grid_row": null,
       "grid_template_areas": null,
       "grid_template_columns": null,
       "grid_template_rows": null,
       "height": null,
       "justify_content": null,
       "justify_items": null,
       "left": null,
       "margin": null,
       "max_height": null,
       "max_width": null,
       "min_height": null,
       "min_width": null,
       "object_fit": null,
       "object_position": null,
       "order": null,
       "overflow": null,
       "overflow_x": null,
       "overflow_y": null,
       "padding": null,
       "right": null,
       "top": null,
       "visibility": null,
       "width": null
      }
     },
     "bfe1a773ded24baa93f074f7c453732a": {
      "model_module": "@jupyter-widgets/controls",
      "model_module_version": "1.5.0",
      "model_name": "HTMLModel",
      "state": {
       "_dom_classes": [],
       "_model_module": "@jupyter-widgets/controls",
       "_model_module_version": "1.5.0",
       "_model_name": "HTMLModel",
       "_view_count": null,
       "_view_module": "@jupyter-widgets/controls",
       "_view_module_version": "1.5.0",
       "_view_name": "HTMLView",
       "description": "",
       "description_tooltip": null,
       "layout": "IPY_MODEL_5b5f59d9493c40c4a6239c83df95657c",
       "placeholder": "​",
       "style": "IPY_MODEL_ad16c38ff6fa4be5afb438833169f67a",
       "value": " 570/570 [00:00&lt;00:00, 19.8kB/s]"
      }
     },
     "c9624ea2659042608331792ba9485ac0": {
      "model_module": "@jupyter-widgets/controls",
      "model_module_version": "1.5.0",
      "model_name": "HBoxModel",
      "state": {
       "_dom_classes": [],
       "_model_module": "@jupyter-widgets/controls",
       "_model_module_version": "1.5.0",
       "_model_name": "HBoxModel",
       "_view_count": null,
       "_view_module": "@jupyter-widgets/controls",
       "_view_module_version": "1.5.0",
       "_view_name": "HBoxView",
       "box_style": "",
       "children": [
        "IPY_MODEL_d60066fede91497d8c675d554a7bb604",
        "IPY_MODEL_ffa6697bfb814d5d8f506a00b8b53501",
        "IPY_MODEL_6918741bcacd4c1ea4602ef82e7579b5"
       ],
       "layout": "IPY_MODEL_7d0c2cac2c504547a2abd29cb9135228"
      }
     },
     "d25e38fa9a9c4968aa84a4e55b5b883e": {
      "model_module": "@jupyter-widgets/base",
      "model_module_version": "1.2.0",
      "model_name": "LayoutModel",
      "state": {
       "_model_module": "@jupyter-widgets/base",
       "_model_module_version": "1.2.0",
       "_model_name": "LayoutModel",
       "_view_count": null,
       "_view_module": "@jupyter-widgets/base",
       "_view_module_version": "1.2.0",
       "_view_name": "LayoutView",
       "align_content": null,
       "align_items": null,
       "align_self": null,
       "border": null,
       "bottom": null,
       "display": null,
       "flex": null,
       "flex_flow": null,
       "grid_area": null,
       "grid_auto_columns": null,
       "grid_auto_flow": null,
       "grid_auto_rows": null,
       "grid_column": null,
       "grid_gap": null,
       "grid_row": null,
       "grid_template_areas": null,
       "grid_template_columns": null,
       "grid_template_rows": null,
       "height": null,
       "justify_content": null,
       "justify_items": null,
       "left": null,
       "margin": null,
       "max_height": null,
       "max_width": null,
       "min_height": null,
       "min_width": null,
       "object_fit": null,
       "object_position": null,
       "order": null,
       "overflow": null,
       "overflow_x": null,
       "overflow_y": null,
       "padding": null,
       "right": null,
       "top": null,
       "visibility": null,
       "width": null
      }
     },
     "d3d8c6dffdf14cd6a8d2a88c523039e3": {
      "model_module": "@jupyter-widgets/controls",
      "model_module_version": "1.5.0",
      "model_name": "FloatProgressModel",
      "state": {
       "_dom_classes": [],
       "_model_module": "@jupyter-widgets/controls",
       "_model_module_version": "1.5.0",
       "_model_name": "FloatProgressModel",
       "_view_count": null,
       "_view_module": "@jupyter-widgets/controls",
       "_view_module_version": "1.5.0",
       "_view_name": "ProgressView",
       "bar_style": "success",
       "description": "",
       "description_tooltip": null,
       "layout": "IPY_MODEL_d25e38fa9a9c4968aa84a4e55b5b883e",
       "max": 435797,
       "min": 0,
       "orientation": "horizontal",
       "style": "IPY_MODEL_929cf4d186404d7eaebd3a93ecda6f2b",
       "value": 435797
      }
     },
     "d60066fede91497d8c675d554a7bb604": {
      "model_module": "@jupyter-widgets/controls",
      "model_module_version": "1.5.0",
      "model_name": "HTMLModel",
      "state": {
       "_dom_classes": [],
       "_model_module": "@jupyter-widgets/controls",
       "_model_module_version": "1.5.0",
       "_model_name": "HTMLModel",
       "_view_count": null,
       "_view_module": "@jupyter-widgets/controls",
       "_view_module_version": "1.5.0",
       "_view_name": "HTMLView",
       "description": "",
       "description_tooltip": null,
       "layout": "IPY_MODEL_b40d8ab430674239ab4bef871631f381",
       "placeholder": "​",
       "style": "IPY_MODEL_9f6a213d722d472aa0f884874246f184",
       "value": "Downloading: 100%"
      }
     },
     "d7eb967c9ab445f19b994b927be402e7": {
      "model_module": "@jupyter-widgets/controls",
      "model_module_version": "1.5.0",
      "model_name": "ProgressStyleModel",
      "state": {
       "_model_module": "@jupyter-widgets/controls",
       "_model_module_version": "1.5.0",
       "_model_name": "ProgressStyleModel",
       "_view_count": null,
       "_view_module": "@jupyter-widgets/base",
       "_view_module_version": "1.2.0",
       "_view_name": "StyleView",
       "bar_color": null,
       "description_width": ""
      }
     },
     "d91464f40a0f40978a963ecf9f33bedb": {
      "model_module": "@jupyter-widgets/base",
      "model_module_version": "1.2.0",
      "model_name": "LayoutModel",
      "state": {
       "_model_module": "@jupyter-widgets/base",
       "_model_module_version": "1.2.0",
       "_model_name": "LayoutModel",
       "_view_count": null,
       "_view_module": "@jupyter-widgets/base",
       "_view_module_version": "1.2.0",
       "_view_name": "LayoutView",
       "align_content": null,
       "align_items": null,
       "align_self": null,
       "border": null,
       "bottom": null,
       "display": null,
       "flex": null,
       "flex_flow": null,
       "grid_area": null,
       "grid_auto_columns": null,
       "grid_auto_flow": null,
       "grid_auto_rows": null,
       "grid_column": null,
       "grid_gap": null,
       "grid_row": null,
       "grid_template_areas": null,
       "grid_template_columns": null,
       "grid_template_rows": null,
       "height": null,
       "justify_content": null,
       "justify_items": null,
       "left": null,
       "margin": null,
       "max_height": null,
       "max_width": null,
       "min_height": null,
       "min_width": null,
       "object_fit": null,
       "object_position": null,
       "order": null,
       "overflow": null,
       "overflow_x": null,
       "overflow_y": null,
       "padding": null,
       "right": null,
       "top": null,
       "visibility": null,
       "width": null
      }
     },
     "e631557812f341018c565d51302277a6": {
      "model_module": "@jupyter-widgets/base",
      "model_module_version": "1.2.0",
      "model_name": "LayoutModel",
      "state": {
       "_model_module": "@jupyter-widgets/base",
       "_model_module_version": "1.2.0",
       "_model_name": "LayoutModel",
       "_view_count": null,
       "_view_module": "@jupyter-widgets/base",
       "_view_module_version": "1.2.0",
       "_view_name": "LayoutView",
       "align_content": null,
       "align_items": null,
       "align_self": null,
       "border": null,
       "bottom": null,
       "display": null,
       "flex": null,
       "flex_flow": null,
       "grid_area": null,
       "grid_auto_columns": null,
       "grid_auto_flow": null,
       "grid_auto_rows": null,
       "grid_column": null,
       "grid_gap": null,
       "grid_row": null,
       "grid_template_areas": null,
       "grid_template_columns": null,
       "grid_template_rows": null,
       "height": null,
       "justify_content": null,
       "justify_items": null,
       "left": null,
       "margin": null,
       "max_height": null,
       "max_width": null,
       "min_height": null,
       "min_width": null,
       "object_fit": null,
       "object_position": null,
       "order": null,
       "overflow": null,
       "overflow_x": null,
       "overflow_y": null,
       "padding": null,
       "right": null,
       "top": null,
       "visibility": null,
       "width": null
      }
     },
     "e788f3834c83477b92f9a9dda016a44f": {
      "model_module": "@jupyter-widgets/controls",
      "model_module_version": "1.5.0",
      "model_name": "DescriptionStyleModel",
      "state": {
       "_model_module": "@jupyter-widgets/controls",
       "_model_module_version": "1.5.0",
       "_model_name": "DescriptionStyleModel",
       "_view_count": null,
       "_view_module": "@jupyter-widgets/base",
       "_view_module_version": "1.2.0",
       "_view_name": "StyleView",
       "description_width": ""
      }
     },
     "f00ae7b389744a29abc42e35cb03a8f5": {
      "model_module": "@jupyter-widgets/controls",
      "model_module_version": "1.5.0",
      "model_name": "HBoxModel",
      "state": {
       "_dom_classes": [],
       "_model_module": "@jupyter-widgets/controls",
       "_model_module_version": "1.5.0",
       "_model_name": "HBoxModel",
       "_view_count": null,
       "_view_module": "@jupyter-widgets/controls",
       "_view_module_version": "1.5.0",
       "_view_name": "HBoxView",
       "box_style": "",
       "children": [
        "IPY_MODEL_33c3a69f3cbf4d59874dc2d5f5170bfe",
        "IPY_MODEL_11776a797f2749a5aba36d1882664fb3",
        "IPY_MODEL_bfe1a773ded24baa93f074f7c453732a"
       ],
       "layout": "IPY_MODEL_88596db6903344fabc7c952dc4a6221e"
      }
     },
     "f01a57898d0e44d69e6048624841d154": {
      "model_module": "@jupyter-widgets/controls",
      "model_module_version": "1.5.0",
      "model_name": "FloatProgressModel",
      "state": {
       "_dom_classes": [],
       "_model_module": "@jupyter-widgets/controls",
       "_model_module_version": "1.5.0",
       "_model_name": "FloatProgressModel",
       "_view_count": null,
       "_view_module": "@jupyter-widgets/controls",
       "_view_module_version": "1.5.0",
       "_view_name": "ProgressView",
       "bar_style": "success",
       "description": "",
       "description_tooltip": null,
       "layout": "IPY_MODEL_d91464f40a0f40978a963ecf9f33bedb",
       "max": 29,
       "min": 0,
       "orientation": "horizontal",
       "style": "IPY_MODEL_3a3a6303d1594adabc7762aec5e12da9",
       "value": 29
      }
     },
     "f262705341cf4450915122b68987eadb": {
      "model_module": "@jupyter-widgets/base",
      "model_module_version": "1.2.0",
      "model_name": "LayoutModel",
      "state": {
       "_model_module": "@jupyter-widgets/base",
       "_model_module_version": "1.2.0",
       "_model_name": "LayoutModel",
       "_view_count": null,
       "_view_module": "@jupyter-widgets/base",
       "_view_module_version": "1.2.0",
       "_view_name": "LayoutView",
       "align_content": null,
       "align_items": null,
       "align_self": null,
       "border": null,
       "bottom": null,
       "display": null,
       "flex": null,
       "flex_flow": null,
       "grid_area": null,
       "grid_auto_columns": null,
       "grid_auto_flow": null,
       "grid_auto_rows": null,
       "grid_column": null,
       "grid_gap": null,
       "grid_row": null,
       "grid_template_areas": null,
       "grid_template_columns": null,
       "grid_template_rows": null,
       "height": null,
       "justify_content": null,
       "justify_items": null,
       "left": null,
       "margin": null,
       "max_height": null,
       "max_width": null,
       "min_height": null,
       "min_width": null,
       "object_fit": null,
       "object_position": null,
       "order": null,
       "overflow": null,
       "overflow_x": null,
       "overflow_y": null,
       "padding": null,
       "right": null,
       "top": null,
       "visibility": null,
       "width": null
      }
     },
     "f97a5f6733a14b01a79d34d5d06b84b3": {
      "model_module": "@jupyter-widgets/controls",
      "model_module_version": "1.5.0",
      "model_name": "DescriptionStyleModel",
      "state": {
       "_model_module": "@jupyter-widgets/controls",
       "_model_module_version": "1.5.0",
       "_model_name": "DescriptionStyleModel",
       "_view_count": null,
       "_view_module": "@jupyter-widgets/base",
       "_view_module_version": "1.2.0",
       "_view_name": "StyleView",
       "description_width": ""
      }
     },
     "ffa6697bfb814d5d8f506a00b8b53501": {
      "model_module": "@jupyter-widgets/controls",
      "model_module_version": "1.5.0",
      "model_name": "FloatProgressModel",
      "state": {
       "_dom_classes": [],
       "_model_module": "@jupyter-widgets/controls",
       "_model_module_version": "1.5.0",
       "_model_name": "FloatProgressModel",
       "_view_count": null,
       "_view_module": "@jupyter-widgets/controls",
       "_view_module_version": "1.5.0",
       "_view_name": "ProgressView",
       "bar_style": "success",
       "description": "",
       "description_tooltip": null,
       "layout": "IPY_MODEL_bc444e9b308047419e2307520fd795b2",
       "max": 526681800,
       "min": 0,
       "orientation": "horizontal",
       "style": "IPY_MODEL_9234b845067243b4b3f44da8d5c400e4",
       "value": 526681800
      }
     }
    },
    "version_major": 2,
    "version_minor": 0
   }
  }
 },
 "nbformat": 4,
 "nbformat_minor": 5
}
